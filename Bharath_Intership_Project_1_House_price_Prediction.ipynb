{
  "cells": [
    {
      "cell_type": "markdown",
      "metadata": {
        "id": "view-in-github",
        "colab_type": "text"
      },
      "source": [
        "<a href=\"https://colab.research.google.com/github/kabsha1806/Bharath-Internship-Project-1-House-Prediction/blob/main/Bharath_Intership_Project_1_House_price_Prediction.ipynb\" target=\"_parent\"><img src=\"https://colab.research.google.com/assets/colab-badge.svg\" alt=\"Open In Colab\"/></a>"
      ]
    },
    {
      "cell_type": "markdown",
      "source": [
        "\n",
        "# **Bharath Intern : Project 1**\n",
        "\n",
        "\n",
        "# **Name**   : Shaik.Kabsha Ansariya\n",
        "\n",
        "# **Course** : Machine Learning\n",
        "\n",
        "# **studying** : CSE(AI&ML) 3rd year\n",
        "\n",
        "# **Project** : House price predction\n",
        "\n",
        "# **Title** **of** **the** **Report** :\n",
        "# House price prediction\n",
        "\n"
      ],
      "metadata": {
        "id": "IWLe3W24KSCD"
      }
    },
    {
      "cell_type": "markdown",
      "metadata": {
        "id": "lzF5I2NXX2IZ"
      },
      "source": [
        "\n",
        "# **House price prediction:**\n",
        "\n"
      ]
    },
    {
      "cell_type": "code",
      "source": [
        "from google.colab import drive\n",
        "drive.mount('/content/drive')"
      ],
      "metadata": {
        "id": "8CL5dAUEGmYD",
        "colab": {
          "base_uri": "https://localhost:8080/"
        },
        "outputId": "6ae78675-174f-4a77-821a-5d7ead8cd276"
      },
      "execution_count": 1,
      "outputs": [
        {
          "output_type": "stream",
          "name": "stdout",
          "text": [
            "Mounted at /content/drive\n"
          ]
        }
      ]
    },
    {
      "cell_type": "code",
      "execution_count": 2,
      "metadata": {
        "id": "xWf7IxG367-5"
      },
      "outputs": [],
      "source": [
        "dataset_link = \"/content/drive/MyDrive/House price data.csv\""
      ]
    },
    {
      "cell_type": "code",
      "execution_count": 3,
      "metadata": {
        "id": "PjEy7sBLo3yL"
      },
      "outputs": [],
      "source": [
        "import numpy as np\n",
        "import pandas as pd\n",
        "dataset = pd.read_csv(dataset_link)"
      ]
    },
    {
      "cell_type": "code",
      "execution_count": 4,
      "metadata": {
        "id": "naRHfFnzpTbA",
        "colab": {
          "base_uri": "https://localhost:8080/",
          "height": 417
        },
        "outputId": "2d83d694-1ebf-4191-bb3f-17bacc8a109a"
      },
      "outputs": [
        {
          "output_type": "execute_result",
          "data": {
            "text/plain": [
              "                  date      price  bedrooms  bathrooms  sqft_living  sqft_lot  \\\n",
              "0  2014-05-02 00:00:00   313000.0       3.0       1.50         1340      7912   \n",
              "1  2014-05-02 00:00:00  2384000.0       5.0       2.50         3650      9050   \n",
              "2  2014-05-02 00:00:00   342000.0       3.0       2.00         1930     11947   \n",
              "3  2014-05-02 00:00:00   420000.0       3.0       2.25         2000      8030   \n",
              "4  2014-05-02 00:00:00   550000.0       4.0       2.50         1940     10500   \n",
              "\n",
              "   floors  waterfront  view  condition  sqft_above  sqft_basement  yr_built  \\\n",
              "0     1.5           0     0          3        1340              0      1955   \n",
              "1     2.0           0     4          5        3370            280      1921   \n",
              "2     1.0           0     0          4        1930              0      1966   \n",
              "3     1.0           0     0          4        1000           1000      1963   \n",
              "4     1.0           0     0          4        1140            800      1976   \n",
              "\n",
              "   yr_renovated                    street       city  statezip country  \n",
              "0          2005      18810 Densmore Ave N  Shoreline  WA 98133     USA  \n",
              "1             0           709 W Blaine St    Seattle  WA 98119     USA  \n",
              "2             0  26206-26214 143rd Ave SE       Kent  WA 98042     USA  \n",
              "3             0           857 170th Pl NE   Bellevue  WA 98008     USA  \n",
              "4          1992         9105 170th Ave NE    Redmond  WA 98052     USA  "
            ],
            "text/html": [
              "\n",
              "  <div id=\"df-c24c6239-467d-46c4-9d7e-82ab894b5a70\" class=\"colab-df-container\">\n",
              "    <div>\n",
              "<style scoped>\n",
              "    .dataframe tbody tr th:only-of-type {\n",
              "        vertical-align: middle;\n",
              "    }\n",
              "\n",
              "    .dataframe tbody tr th {\n",
              "        vertical-align: top;\n",
              "    }\n",
              "\n",
              "    .dataframe thead th {\n",
              "        text-align: right;\n",
              "    }\n",
              "</style>\n",
              "<table border=\"1\" class=\"dataframe\">\n",
              "  <thead>\n",
              "    <tr style=\"text-align: right;\">\n",
              "      <th></th>\n",
              "      <th>date</th>\n",
              "      <th>price</th>\n",
              "      <th>bedrooms</th>\n",
              "      <th>bathrooms</th>\n",
              "      <th>sqft_living</th>\n",
              "      <th>sqft_lot</th>\n",
              "      <th>floors</th>\n",
              "      <th>waterfront</th>\n",
              "      <th>view</th>\n",
              "      <th>condition</th>\n",
              "      <th>sqft_above</th>\n",
              "      <th>sqft_basement</th>\n",
              "      <th>yr_built</th>\n",
              "      <th>yr_renovated</th>\n",
              "      <th>street</th>\n",
              "      <th>city</th>\n",
              "      <th>statezip</th>\n",
              "      <th>country</th>\n",
              "    </tr>\n",
              "  </thead>\n",
              "  <tbody>\n",
              "    <tr>\n",
              "      <th>0</th>\n",
              "      <td>2014-05-02 00:00:00</td>\n",
              "      <td>313000.0</td>\n",
              "      <td>3.0</td>\n",
              "      <td>1.50</td>\n",
              "      <td>1340</td>\n",
              "      <td>7912</td>\n",
              "      <td>1.5</td>\n",
              "      <td>0</td>\n",
              "      <td>0</td>\n",
              "      <td>3</td>\n",
              "      <td>1340</td>\n",
              "      <td>0</td>\n",
              "      <td>1955</td>\n",
              "      <td>2005</td>\n",
              "      <td>18810 Densmore Ave N</td>\n",
              "      <td>Shoreline</td>\n",
              "      <td>WA 98133</td>\n",
              "      <td>USA</td>\n",
              "    </tr>\n",
              "    <tr>\n",
              "      <th>1</th>\n",
              "      <td>2014-05-02 00:00:00</td>\n",
              "      <td>2384000.0</td>\n",
              "      <td>5.0</td>\n",
              "      <td>2.50</td>\n",
              "      <td>3650</td>\n",
              "      <td>9050</td>\n",
              "      <td>2.0</td>\n",
              "      <td>0</td>\n",
              "      <td>4</td>\n",
              "      <td>5</td>\n",
              "      <td>3370</td>\n",
              "      <td>280</td>\n",
              "      <td>1921</td>\n",
              "      <td>0</td>\n",
              "      <td>709 W Blaine St</td>\n",
              "      <td>Seattle</td>\n",
              "      <td>WA 98119</td>\n",
              "      <td>USA</td>\n",
              "    </tr>\n",
              "    <tr>\n",
              "      <th>2</th>\n",
              "      <td>2014-05-02 00:00:00</td>\n",
              "      <td>342000.0</td>\n",
              "      <td>3.0</td>\n",
              "      <td>2.00</td>\n",
              "      <td>1930</td>\n",
              "      <td>11947</td>\n",
              "      <td>1.0</td>\n",
              "      <td>0</td>\n",
              "      <td>0</td>\n",
              "      <td>4</td>\n",
              "      <td>1930</td>\n",
              "      <td>0</td>\n",
              "      <td>1966</td>\n",
              "      <td>0</td>\n",
              "      <td>26206-26214 143rd Ave SE</td>\n",
              "      <td>Kent</td>\n",
              "      <td>WA 98042</td>\n",
              "      <td>USA</td>\n",
              "    </tr>\n",
              "    <tr>\n",
              "      <th>3</th>\n",
              "      <td>2014-05-02 00:00:00</td>\n",
              "      <td>420000.0</td>\n",
              "      <td>3.0</td>\n",
              "      <td>2.25</td>\n",
              "      <td>2000</td>\n",
              "      <td>8030</td>\n",
              "      <td>1.0</td>\n",
              "      <td>0</td>\n",
              "      <td>0</td>\n",
              "      <td>4</td>\n",
              "      <td>1000</td>\n",
              "      <td>1000</td>\n",
              "      <td>1963</td>\n",
              "      <td>0</td>\n",
              "      <td>857 170th Pl NE</td>\n",
              "      <td>Bellevue</td>\n",
              "      <td>WA 98008</td>\n",
              "      <td>USA</td>\n",
              "    </tr>\n",
              "    <tr>\n",
              "      <th>4</th>\n",
              "      <td>2014-05-02 00:00:00</td>\n",
              "      <td>550000.0</td>\n",
              "      <td>4.0</td>\n",
              "      <td>2.50</td>\n",
              "      <td>1940</td>\n",
              "      <td>10500</td>\n",
              "      <td>1.0</td>\n",
              "      <td>0</td>\n",
              "      <td>0</td>\n",
              "      <td>4</td>\n",
              "      <td>1140</td>\n",
              "      <td>800</td>\n",
              "      <td>1976</td>\n",
              "      <td>1992</td>\n",
              "      <td>9105 170th Ave NE</td>\n",
              "      <td>Redmond</td>\n",
              "      <td>WA 98052</td>\n",
              "      <td>USA</td>\n",
              "    </tr>\n",
              "  </tbody>\n",
              "</table>\n",
              "</div>\n",
              "    <div class=\"colab-df-buttons\">\n",
              "\n",
              "  <div class=\"colab-df-container\">\n",
              "    <button class=\"colab-df-convert\" onclick=\"convertToInteractive('df-c24c6239-467d-46c4-9d7e-82ab894b5a70')\"\n",
              "            title=\"Convert this dataframe to an interactive table.\"\n",
              "            style=\"display:none;\">\n",
              "\n",
              "  <svg xmlns=\"http://www.w3.org/2000/svg\" height=\"24px\" viewBox=\"0 -960 960 960\">\n",
              "    <path d=\"M120-120v-720h720v720H120Zm60-500h600v-160H180v160Zm220 220h160v-160H400v160Zm0 220h160v-160H400v160ZM180-400h160v-160H180v160Zm440 0h160v-160H620v160ZM180-180h160v-160H180v160Zm440 0h160v-160H620v160Z\"/>\n",
              "  </svg>\n",
              "    </button>\n",
              "\n",
              "  <style>\n",
              "    .colab-df-container {\n",
              "      display:flex;\n",
              "      gap: 12px;\n",
              "    }\n",
              "\n",
              "    .colab-df-convert {\n",
              "      background-color: #E8F0FE;\n",
              "      border: none;\n",
              "      border-radius: 50%;\n",
              "      cursor: pointer;\n",
              "      display: none;\n",
              "      fill: #1967D2;\n",
              "      height: 32px;\n",
              "      padding: 0 0 0 0;\n",
              "      width: 32px;\n",
              "    }\n",
              "\n",
              "    .colab-df-convert:hover {\n",
              "      background-color: #E2EBFA;\n",
              "      box-shadow: 0px 1px 2px rgba(60, 64, 67, 0.3), 0px 1px 3px 1px rgba(60, 64, 67, 0.15);\n",
              "      fill: #174EA6;\n",
              "    }\n",
              "\n",
              "    .colab-df-buttons div {\n",
              "      margin-bottom: 4px;\n",
              "    }\n",
              "\n",
              "    [theme=dark] .colab-df-convert {\n",
              "      background-color: #3B4455;\n",
              "      fill: #D2E3FC;\n",
              "    }\n",
              "\n",
              "    [theme=dark] .colab-df-convert:hover {\n",
              "      background-color: #434B5C;\n",
              "      box-shadow: 0px 1px 3px 1px rgba(0, 0, 0, 0.15);\n",
              "      filter: drop-shadow(0px 1px 2px rgba(0, 0, 0, 0.3));\n",
              "      fill: #FFFFFF;\n",
              "    }\n",
              "  </style>\n",
              "\n",
              "    <script>\n",
              "      const buttonEl =\n",
              "        document.querySelector('#df-c24c6239-467d-46c4-9d7e-82ab894b5a70 button.colab-df-convert');\n",
              "      buttonEl.style.display =\n",
              "        google.colab.kernel.accessAllowed ? 'block' : 'none';\n",
              "\n",
              "      async function convertToInteractive(key) {\n",
              "        const element = document.querySelector('#df-c24c6239-467d-46c4-9d7e-82ab894b5a70');\n",
              "        const dataTable =\n",
              "          await google.colab.kernel.invokeFunction('convertToInteractive',\n",
              "                                                    [key], {});\n",
              "        if (!dataTable) return;\n",
              "\n",
              "        const docLinkHtml = 'Like what you see? Visit the ' +\n",
              "          '<a target=\"_blank\" href=https://colab.research.google.com/notebooks/data_table.ipynb>data table notebook</a>'\n",
              "          + ' to learn more about interactive tables.';\n",
              "        element.innerHTML = '';\n",
              "        dataTable['output_type'] = 'display_data';\n",
              "        await google.colab.output.renderOutput(dataTable, element);\n",
              "        const docLink = document.createElement('div');\n",
              "        docLink.innerHTML = docLinkHtml;\n",
              "        element.appendChild(docLink);\n",
              "      }\n",
              "    </script>\n",
              "  </div>\n",
              "\n",
              "\n",
              "<div id=\"df-28fa80ab-e042-4b96-9e64-a62b3046f4e3\">\n",
              "  <button class=\"colab-df-quickchart\" onclick=\"quickchart('df-28fa80ab-e042-4b96-9e64-a62b3046f4e3')\"\n",
              "            title=\"Suggest charts\"\n",
              "            style=\"display:none;\">\n",
              "\n",
              "<svg xmlns=\"http://www.w3.org/2000/svg\" height=\"24px\"viewBox=\"0 0 24 24\"\n",
              "     width=\"24px\">\n",
              "    <g>\n",
              "        <path d=\"M19 3H5c-1.1 0-2 .9-2 2v14c0 1.1.9 2 2 2h14c1.1 0 2-.9 2-2V5c0-1.1-.9-2-2-2zM9 17H7v-7h2v7zm4 0h-2V7h2v10zm4 0h-2v-4h2v4z\"/>\n",
              "    </g>\n",
              "</svg>\n",
              "  </button>\n",
              "\n",
              "<style>\n",
              "  .colab-df-quickchart {\n",
              "      --bg-color: #E8F0FE;\n",
              "      --fill-color: #1967D2;\n",
              "      --hover-bg-color: #E2EBFA;\n",
              "      --hover-fill-color: #174EA6;\n",
              "      --disabled-fill-color: #AAA;\n",
              "      --disabled-bg-color: #DDD;\n",
              "  }\n",
              "\n",
              "  [theme=dark] .colab-df-quickchart {\n",
              "      --bg-color: #3B4455;\n",
              "      --fill-color: #D2E3FC;\n",
              "      --hover-bg-color: #434B5C;\n",
              "      --hover-fill-color: #FFFFFF;\n",
              "      --disabled-bg-color: #3B4455;\n",
              "      --disabled-fill-color: #666;\n",
              "  }\n",
              "\n",
              "  .colab-df-quickchart {\n",
              "    background-color: var(--bg-color);\n",
              "    border: none;\n",
              "    border-radius: 50%;\n",
              "    cursor: pointer;\n",
              "    display: none;\n",
              "    fill: var(--fill-color);\n",
              "    height: 32px;\n",
              "    padding: 0;\n",
              "    width: 32px;\n",
              "  }\n",
              "\n",
              "  .colab-df-quickchart:hover {\n",
              "    background-color: var(--hover-bg-color);\n",
              "    box-shadow: 0 1px 2px rgba(60, 64, 67, 0.3), 0 1px 3px 1px rgba(60, 64, 67, 0.15);\n",
              "    fill: var(--button-hover-fill-color);\n",
              "  }\n",
              "\n",
              "  .colab-df-quickchart-complete:disabled,\n",
              "  .colab-df-quickchart-complete:disabled:hover {\n",
              "    background-color: var(--disabled-bg-color);\n",
              "    fill: var(--disabled-fill-color);\n",
              "    box-shadow: none;\n",
              "  }\n",
              "\n",
              "  .colab-df-spinner {\n",
              "    border: 2px solid var(--fill-color);\n",
              "    border-color: transparent;\n",
              "    border-bottom-color: var(--fill-color);\n",
              "    animation:\n",
              "      spin 1s steps(1) infinite;\n",
              "  }\n",
              "\n",
              "  @keyframes spin {\n",
              "    0% {\n",
              "      border-color: transparent;\n",
              "      border-bottom-color: var(--fill-color);\n",
              "      border-left-color: var(--fill-color);\n",
              "    }\n",
              "    20% {\n",
              "      border-color: transparent;\n",
              "      border-left-color: var(--fill-color);\n",
              "      border-top-color: var(--fill-color);\n",
              "    }\n",
              "    30% {\n",
              "      border-color: transparent;\n",
              "      border-left-color: var(--fill-color);\n",
              "      border-top-color: var(--fill-color);\n",
              "      border-right-color: var(--fill-color);\n",
              "    }\n",
              "    40% {\n",
              "      border-color: transparent;\n",
              "      border-right-color: var(--fill-color);\n",
              "      border-top-color: var(--fill-color);\n",
              "    }\n",
              "    60% {\n",
              "      border-color: transparent;\n",
              "      border-right-color: var(--fill-color);\n",
              "    }\n",
              "    80% {\n",
              "      border-color: transparent;\n",
              "      border-right-color: var(--fill-color);\n",
              "      border-bottom-color: var(--fill-color);\n",
              "    }\n",
              "    90% {\n",
              "      border-color: transparent;\n",
              "      border-bottom-color: var(--fill-color);\n",
              "    }\n",
              "  }\n",
              "</style>\n",
              "\n",
              "  <script>\n",
              "    async function quickchart(key) {\n",
              "      const quickchartButtonEl =\n",
              "        document.querySelector('#' + key + ' button');\n",
              "      quickchartButtonEl.disabled = true;  // To prevent multiple clicks.\n",
              "      quickchartButtonEl.classList.add('colab-df-spinner');\n",
              "      try {\n",
              "        const charts = await google.colab.kernel.invokeFunction(\n",
              "            'suggestCharts', [key], {});\n",
              "      } catch (error) {\n",
              "        console.error('Error during call to suggestCharts:', error);\n",
              "      }\n",
              "      quickchartButtonEl.classList.remove('colab-df-spinner');\n",
              "      quickchartButtonEl.classList.add('colab-df-quickchart-complete');\n",
              "    }\n",
              "    (() => {\n",
              "      let quickchartButtonEl =\n",
              "        document.querySelector('#df-28fa80ab-e042-4b96-9e64-a62b3046f4e3 button');\n",
              "      quickchartButtonEl.style.display =\n",
              "        google.colab.kernel.accessAllowed ? 'block' : 'none';\n",
              "    })();\n",
              "  </script>\n",
              "</div>\n",
              "    </div>\n",
              "  </div>\n"
            ]
          },
          "metadata": {},
          "execution_count": 4
        }
      ],
      "source": [
        "dataset.head()"
      ]
    },
    {
      "cell_type": "code",
      "execution_count": 5,
      "metadata": {
        "id": "Mr53pDgTq1WF",
        "colab": {
          "base_uri": "https://localhost:8080/"
        },
        "outputId": "2aa239c1-288e-4c9a-a1a0-67ddea6e55d9"
      },
      "outputs": [
        {
          "output_type": "stream",
          "name": "stdout",
          "text": [
            "<class 'pandas.core.frame.DataFrame'>\n",
            "RangeIndex: 4600 entries, 0 to 4599\n",
            "Data columns (total 18 columns):\n",
            " #   Column         Non-Null Count  Dtype  \n",
            "---  ------         --------------  -----  \n",
            " 0   date           4600 non-null   object \n",
            " 1   price          4600 non-null   float64\n",
            " 2   bedrooms       4600 non-null   float64\n",
            " 3   bathrooms      4600 non-null   float64\n",
            " 4   sqft_living    4600 non-null   int64  \n",
            " 5   sqft_lot       4600 non-null   int64  \n",
            " 6   floors         4600 non-null   float64\n",
            " 7   waterfront     4600 non-null   int64  \n",
            " 8   view           4600 non-null   int64  \n",
            " 9   condition      4600 non-null   int64  \n",
            " 10  sqft_above     4600 non-null   int64  \n",
            " 11  sqft_basement  4600 non-null   int64  \n",
            " 12  yr_built       4600 non-null   int64  \n",
            " 13  yr_renovated   4600 non-null   int64  \n",
            " 14  street         4600 non-null   object \n",
            " 15  city           4600 non-null   object \n",
            " 16  statezip       4600 non-null   object \n",
            " 17  country        4600 non-null   object \n",
            "dtypes: float64(4), int64(9), object(5)\n",
            "memory usage: 647.0+ KB\n"
          ]
        }
      ],
      "source": [
        "dataset.info()"
      ]
    },
    {
      "cell_type": "code",
      "execution_count": 6,
      "metadata": {
        "id": "edUJQDI61qiU",
        "colab": {
          "base_uri": "https://localhost:8080/"
        },
        "outputId": "85ef915a-2384-4f75-dfe8-22f066ec4c49"
      },
      "outputs": [
        {
          "output_type": "execute_result",
          "data": {
            "text/plain": [
              "date             0\n",
              "price            0\n",
              "bedrooms         0\n",
              "bathrooms        0\n",
              "sqft_living      0\n",
              "sqft_lot         0\n",
              "floors           0\n",
              "waterfront       0\n",
              "view             0\n",
              "condition        0\n",
              "sqft_above       0\n",
              "sqft_basement    0\n",
              "yr_built         0\n",
              "yr_renovated     0\n",
              "street           0\n",
              "city             0\n",
              "statezip         0\n",
              "country          0\n",
              "dtype: int64"
            ]
          },
          "metadata": {},
          "execution_count": 6
        }
      ],
      "source": [
        "dataset.isna().sum()"
      ]
    },
    {
      "cell_type": "code",
      "execution_count": 7,
      "metadata": {
        "id": "FJTvGEdQs9GK",
        "colab": {
          "base_uri": "https://localhost:8080/"
        },
        "outputId": "479dffb7-2fb4-49ff-897e-f10e0ecf404f"
      },
      "outputs": [
        {
          "output_type": "stream",
          "name": "stderr",
          "text": [
            "<ipython-input-7-603bc2456f5d>:2: FutureWarning: The default value of numeric_only in DataFrame.mean is deprecated. In a future version, it will default to False. In addition, specifying 'numeric_only=None' is deprecated. Select only valid columns or specify the value of numeric_only to silence this warning.\n",
            "  dataset = dataset.fillna(dataset.mean())\n"
          ]
        }
      ],
      "source": [
        "# Replace missing values\n",
        "dataset = dataset.fillna(dataset.mean())\n",
        "# print(dataset)"
      ]
    },
    {
      "cell_type": "code",
      "execution_count": 8,
      "metadata": {
        "id": "l1VmiMkQpKSO",
        "colab": {
          "base_uri": "https://localhost:8080/",
          "height": 808
        },
        "outputId": "d7c9075f-be08-41ed-94b4-78790e412c37"
      },
      "outputs": [
        {
          "output_type": "execute_result",
          "data": {
            "text/plain": [
              "                     date         price  bedrooms  bathrooms  sqft_living  \\\n",
              "0     2014-05-02 00:00:00  3.130000e+05       3.0       1.50         1340   \n",
              "1     2014-05-02 00:00:00  2.384000e+06       5.0       2.50         3650   \n",
              "2     2014-05-02 00:00:00  3.420000e+05       3.0       2.00         1930   \n",
              "3     2014-05-02 00:00:00  4.200000e+05       3.0       2.25         2000   \n",
              "4     2014-05-02 00:00:00  5.500000e+05       4.0       2.50         1940   \n",
              "...                   ...           ...       ...        ...          ...   \n",
              "4595  2014-07-09 00:00:00  3.081667e+05       3.0       1.75         1510   \n",
              "4596  2014-07-09 00:00:00  5.343333e+05       3.0       2.50         1460   \n",
              "4597  2014-07-09 00:00:00  4.169042e+05       3.0       2.50         3010   \n",
              "4598  2014-07-10 00:00:00  2.034000e+05       4.0       2.00         2090   \n",
              "4599  2014-07-10 00:00:00  2.206000e+05       3.0       2.50         1490   \n",
              "\n",
              "      sqft_lot  floors  waterfront  view  condition  sqft_above  \\\n",
              "0         7912     1.5           0     0          3        1340   \n",
              "1         9050     2.0           0     4          5        3370   \n",
              "2        11947     1.0           0     0          4        1930   \n",
              "3         8030     1.0           0     0          4        1000   \n",
              "4        10500     1.0           0     0          4        1140   \n",
              "...        ...     ...         ...   ...        ...         ...   \n",
              "4595      6360     1.0           0     0          4        1510   \n",
              "4596      7573     2.0           0     0          3        1460   \n",
              "4597      7014     2.0           0     0          3        3010   \n",
              "4598      6630     1.0           0     0          3        1070   \n",
              "4599      8102     2.0           0     0          4        1490   \n",
              "\n",
              "      sqft_basement  yr_built  yr_renovated                    street  \\\n",
              "0                 0      1955          2005      18810 Densmore Ave N   \n",
              "1               280      1921             0           709 W Blaine St   \n",
              "2                 0      1966             0  26206-26214 143rd Ave SE   \n",
              "3              1000      1963             0           857 170th Pl NE   \n",
              "4               800      1976          1992         9105 170th Ave NE   \n",
              "...             ...       ...           ...                       ...   \n",
              "4595              0      1954          1979            501 N 143rd St   \n",
              "4596              0      1983          2009          14855 SE 10th Pl   \n",
              "4597              0      2009             0          759 Ilwaco Pl NE   \n",
              "4598           1020      1974             0         5148 S Creston St   \n",
              "4599              0      1990             0         18717 SE 258th St   \n",
              "\n",
              "           city  statezip country  \n",
              "0     Shoreline  WA 98133     USA  \n",
              "1       Seattle  WA 98119     USA  \n",
              "2          Kent  WA 98042     USA  \n",
              "3      Bellevue  WA 98008     USA  \n",
              "4       Redmond  WA 98052     USA  \n",
              "...         ...       ...     ...  \n",
              "4595    Seattle  WA 98133     USA  \n",
              "4596   Bellevue  WA 98007     USA  \n",
              "4597     Renton  WA 98059     USA  \n",
              "4598    Seattle  WA 98178     USA  \n",
              "4599  Covington  WA 98042     USA  \n",
              "\n",
              "[4600 rows x 18 columns]"
            ],
            "text/html": [
              "\n",
              "  <div id=\"df-b311c923-5139-4609-a0e0-76b82c7af6fb\" class=\"colab-df-container\">\n",
              "    <div>\n",
              "<style scoped>\n",
              "    .dataframe tbody tr th:only-of-type {\n",
              "        vertical-align: middle;\n",
              "    }\n",
              "\n",
              "    .dataframe tbody tr th {\n",
              "        vertical-align: top;\n",
              "    }\n",
              "\n",
              "    .dataframe thead th {\n",
              "        text-align: right;\n",
              "    }\n",
              "</style>\n",
              "<table border=\"1\" class=\"dataframe\">\n",
              "  <thead>\n",
              "    <tr style=\"text-align: right;\">\n",
              "      <th></th>\n",
              "      <th>date</th>\n",
              "      <th>price</th>\n",
              "      <th>bedrooms</th>\n",
              "      <th>bathrooms</th>\n",
              "      <th>sqft_living</th>\n",
              "      <th>sqft_lot</th>\n",
              "      <th>floors</th>\n",
              "      <th>waterfront</th>\n",
              "      <th>view</th>\n",
              "      <th>condition</th>\n",
              "      <th>sqft_above</th>\n",
              "      <th>sqft_basement</th>\n",
              "      <th>yr_built</th>\n",
              "      <th>yr_renovated</th>\n",
              "      <th>street</th>\n",
              "      <th>city</th>\n",
              "      <th>statezip</th>\n",
              "      <th>country</th>\n",
              "    </tr>\n",
              "  </thead>\n",
              "  <tbody>\n",
              "    <tr>\n",
              "      <th>0</th>\n",
              "      <td>2014-05-02 00:00:00</td>\n",
              "      <td>3.130000e+05</td>\n",
              "      <td>3.0</td>\n",
              "      <td>1.50</td>\n",
              "      <td>1340</td>\n",
              "      <td>7912</td>\n",
              "      <td>1.5</td>\n",
              "      <td>0</td>\n",
              "      <td>0</td>\n",
              "      <td>3</td>\n",
              "      <td>1340</td>\n",
              "      <td>0</td>\n",
              "      <td>1955</td>\n",
              "      <td>2005</td>\n",
              "      <td>18810 Densmore Ave N</td>\n",
              "      <td>Shoreline</td>\n",
              "      <td>WA 98133</td>\n",
              "      <td>USA</td>\n",
              "    </tr>\n",
              "    <tr>\n",
              "      <th>1</th>\n",
              "      <td>2014-05-02 00:00:00</td>\n",
              "      <td>2.384000e+06</td>\n",
              "      <td>5.0</td>\n",
              "      <td>2.50</td>\n",
              "      <td>3650</td>\n",
              "      <td>9050</td>\n",
              "      <td>2.0</td>\n",
              "      <td>0</td>\n",
              "      <td>4</td>\n",
              "      <td>5</td>\n",
              "      <td>3370</td>\n",
              "      <td>280</td>\n",
              "      <td>1921</td>\n",
              "      <td>0</td>\n",
              "      <td>709 W Blaine St</td>\n",
              "      <td>Seattle</td>\n",
              "      <td>WA 98119</td>\n",
              "      <td>USA</td>\n",
              "    </tr>\n",
              "    <tr>\n",
              "      <th>2</th>\n",
              "      <td>2014-05-02 00:00:00</td>\n",
              "      <td>3.420000e+05</td>\n",
              "      <td>3.0</td>\n",
              "      <td>2.00</td>\n",
              "      <td>1930</td>\n",
              "      <td>11947</td>\n",
              "      <td>1.0</td>\n",
              "      <td>0</td>\n",
              "      <td>0</td>\n",
              "      <td>4</td>\n",
              "      <td>1930</td>\n",
              "      <td>0</td>\n",
              "      <td>1966</td>\n",
              "      <td>0</td>\n",
              "      <td>26206-26214 143rd Ave SE</td>\n",
              "      <td>Kent</td>\n",
              "      <td>WA 98042</td>\n",
              "      <td>USA</td>\n",
              "    </tr>\n",
              "    <tr>\n",
              "      <th>3</th>\n",
              "      <td>2014-05-02 00:00:00</td>\n",
              "      <td>4.200000e+05</td>\n",
              "      <td>3.0</td>\n",
              "      <td>2.25</td>\n",
              "      <td>2000</td>\n",
              "      <td>8030</td>\n",
              "      <td>1.0</td>\n",
              "      <td>0</td>\n",
              "      <td>0</td>\n",
              "      <td>4</td>\n",
              "      <td>1000</td>\n",
              "      <td>1000</td>\n",
              "      <td>1963</td>\n",
              "      <td>0</td>\n",
              "      <td>857 170th Pl NE</td>\n",
              "      <td>Bellevue</td>\n",
              "      <td>WA 98008</td>\n",
              "      <td>USA</td>\n",
              "    </tr>\n",
              "    <tr>\n",
              "      <th>4</th>\n",
              "      <td>2014-05-02 00:00:00</td>\n",
              "      <td>5.500000e+05</td>\n",
              "      <td>4.0</td>\n",
              "      <td>2.50</td>\n",
              "      <td>1940</td>\n",
              "      <td>10500</td>\n",
              "      <td>1.0</td>\n",
              "      <td>0</td>\n",
              "      <td>0</td>\n",
              "      <td>4</td>\n",
              "      <td>1140</td>\n",
              "      <td>800</td>\n",
              "      <td>1976</td>\n",
              "      <td>1992</td>\n",
              "      <td>9105 170th Ave NE</td>\n",
              "      <td>Redmond</td>\n",
              "      <td>WA 98052</td>\n",
              "      <td>USA</td>\n",
              "    </tr>\n",
              "    <tr>\n",
              "      <th>...</th>\n",
              "      <td>...</td>\n",
              "      <td>...</td>\n",
              "      <td>...</td>\n",
              "      <td>...</td>\n",
              "      <td>...</td>\n",
              "      <td>...</td>\n",
              "      <td>...</td>\n",
              "      <td>...</td>\n",
              "      <td>...</td>\n",
              "      <td>...</td>\n",
              "      <td>...</td>\n",
              "      <td>...</td>\n",
              "      <td>...</td>\n",
              "      <td>...</td>\n",
              "      <td>...</td>\n",
              "      <td>...</td>\n",
              "      <td>...</td>\n",
              "      <td>...</td>\n",
              "    </tr>\n",
              "    <tr>\n",
              "      <th>4595</th>\n",
              "      <td>2014-07-09 00:00:00</td>\n",
              "      <td>3.081667e+05</td>\n",
              "      <td>3.0</td>\n",
              "      <td>1.75</td>\n",
              "      <td>1510</td>\n",
              "      <td>6360</td>\n",
              "      <td>1.0</td>\n",
              "      <td>0</td>\n",
              "      <td>0</td>\n",
              "      <td>4</td>\n",
              "      <td>1510</td>\n",
              "      <td>0</td>\n",
              "      <td>1954</td>\n",
              "      <td>1979</td>\n",
              "      <td>501 N 143rd St</td>\n",
              "      <td>Seattle</td>\n",
              "      <td>WA 98133</td>\n",
              "      <td>USA</td>\n",
              "    </tr>\n",
              "    <tr>\n",
              "      <th>4596</th>\n",
              "      <td>2014-07-09 00:00:00</td>\n",
              "      <td>5.343333e+05</td>\n",
              "      <td>3.0</td>\n",
              "      <td>2.50</td>\n",
              "      <td>1460</td>\n",
              "      <td>7573</td>\n",
              "      <td>2.0</td>\n",
              "      <td>0</td>\n",
              "      <td>0</td>\n",
              "      <td>3</td>\n",
              "      <td>1460</td>\n",
              "      <td>0</td>\n",
              "      <td>1983</td>\n",
              "      <td>2009</td>\n",
              "      <td>14855 SE 10th Pl</td>\n",
              "      <td>Bellevue</td>\n",
              "      <td>WA 98007</td>\n",
              "      <td>USA</td>\n",
              "    </tr>\n",
              "    <tr>\n",
              "      <th>4597</th>\n",
              "      <td>2014-07-09 00:00:00</td>\n",
              "      <td>4.169042e+05</td>\n",
              "      <td>3.0</td>\n",
              "      <td>2.50</td>\n",
              "      <td>3010</td>\n",
              "      <td>7014</td>\n",
              "      <td>2.0</td>\n",
              "      <td>0</td>\n",
              "      <td>0</td>\n",
              "      <td>3</td>\n",
              "      <td>3010</td>\n",
              "      <td>0</td>\n",
              "      <td>2009</td>\n",
              "      <td>0</td>\n",
              "      <td>759 Ilwaco Pl NE</td>\n",
              "      <td>Renton</td>\n",
              "      <td>WA 98059</td>\n",
              "      <td>USA</td>\n",
              "    </tr>\n",
              "    <tr>\n",
              "      <th>4598</th>\n",
              "      <td>2014-07-10 00:00:00</td>\n",
              "      <td>2.034000e+05</td>\n",
              "      <td>4.0</td>\n",
              "      <td>2.00</td>\n",
              "      <td>2090</td>\n",
              "      <td>6630</td>\n",
              "      <td>1.0</td>\n",
              "      <td>0</td>\n",
              "      <td>0</td>\n",
              "      <td>3</td>\n",
              "      <td>1070</td>\n",
              "      <td>1020</td>\n",
              "      <td>1974</td>\n",
              "      <td>0</td>\n",
              "      <td>5148 S Creston St</td>\n",
              "      <td>Seattle</td>\n",
              "      <td>WA 98178</td>\n",
              "      <td>USA</td>\n",
              "    </tr>\n",
              "    <tr>\n",
              "      <th>4599</th>\n",
              "      <td>2014-07-10 00:00:00</td>\n",
              "      <td>2.206000e+05</td>\n",
              "      <td>3.0</td>\n",
              "      <td>2.50</td>\n",
              "      <td>1490</td>\n",
              "      <td>8102</td>\n",
              "      <td>2.0</td>\n",
              "      <td>0</td>\n",
              "      <td>0</td>\n",
              "      <td>4</td>\n",
              "      <td>1490</td>\n",
              "      <td>0</td>\n",
              "      <td>1990</td>\n",
              "      <td>0</td>\n",
              "      <td>18717 SE 258th St</td>\n",
              "      <td>Covington</td>\n",
              "      <td>WA 98042</td>\n",
              "      <td>USA</td>\n",
              "    </tr>\n",
              "  </tbody>\n",
              "</table>\n",
              "<p>4600 rows × 18 columns</p>\n",
              "</div>\n",
              "    <div class=\"colab-df-buttons\">\n",
              "\n",
              "  <div class=\"colab-df-container\">\n",
              "    <button class=\"colab-df-convert\" onclick=\"convertToInteractive('df-b311c923-5139-4609-a0e0-76b82c7af6fb')\"\n",
              "            title=\"Convert this dataframe to an interactive table.\"\n",
              "            style=\"display:none;\">\n",
              "\n",
              "  <svg xmlns=\"http://www.w3.org/2000/svg\" height=\"24px\" viewBox=\"0 -960 960 960\">\n",
              "    <path d=\"M120-120v-720h720v720H120Zm60-500h600v-160H180v160Zm220 220h160v-160H400v160Zm0 220h160v-160H400v160ZM180-400h160v-160H180v160Zm440 0h160v-160H620v160ZM180-180h160v-160H180v160Zm440 0h160v-160H620v160Z\"/>\n",
              "  </svg>\n",
              "    </button>\n",
              "\n",
              "  <style>\n",
              "    .colab-df-container {\n",
              "      display:flex;\n",
              "      gap: 12px;\n",
              "    }\n",
              "\n",
              "    .colab-df-convert {\n",
              "      background-color: #E8F0FE;\n",
              "      border: none;\n",
              "      border-radius: 50%;\n",
              "      cursor: pointer;\n",
              "      display: none;\n",
              "      fill: #1967D2;\n",
              "      height: 32px;\n",
              "      padding: 0 0 0 0;\n",
              "      width: 32px;\n",
              "    }\n",
              "\n",
              "    .colab-df-convert:hover {\n",
              "      background-color: #E2EBFA;\n",
              "      box-shadow: 0px 1px 2px rgba(60, 64, 67, 0.3), 0px 1px 3px 1px rgba(60, 64, 67, 0.15);\n",
              "      fill: #174EA6;\n",
              "    }\n",
              "\n",
              "    .colab-df-buttons div {\n",
              "      margin-bottom: 4px;\n",
              "    }\n",
              "\n",
              "    [theme=dark] .colab-df-convert {\n",
              "      background-color: #3B4455;\n",
              "      fill: #D2E3FC;\n",
              "    }\n",
              "\n",
              "    [theme=dark] .colab-df-convert:hover {\n",
              "      background-color: #434B5C;\n",
              "      box-shadow: 0px 1px 3px 1px rgba(0, 0, 0, 0.15);\n",
              "      filter: drop-shadow(0px 1px 2px rgba(0, 0, 0, 0.3));\n",
              "      fill: #FFFFFF;\n",
              "    }\n",
              "  </style>\n",
              "\n",
              "    <script>\n",
              "      const buttonEl =\n",
              "        document.querySelector('#df-b311c923-5139-4609-a0e0-76b82c7af6fb button.colab-df-convert');\n",
              "      buttonEl.style.display =\n",
              "        google.colab.kernel.accessAllowed ? 'block' : 'none';\n",
              "\n",
              "      async function convertToInteractive(key) {\n",
              "        const element = document.querySelector('#df-b311c923-5139-4609-a0e0-76b82c7af6fb');\n",
              "        const dataTable =\n",
              "          await google.colab.kernel.invokeFunction('convertToInteractive',\n",
              "                                                    [key], {});\n",
              "        if (!dataTable) return;\n",
              "\n",
              "        const docLinkHtml = 'Like what you see? Visit the ' +\n",
              "          '<a target=\"_blank\" href=https://colab.research.google.com/notebooks/data_table.ipynb>data table notebook</a>'\n",
              "          + ' to learn more about interactive tables.';\n",
              "        element.innerHTML = '';\n",
              "        dataTable['output_type'] = 'display_data';\n",
              "        await google.colab.output.renderOutput(dataTable, element);\n",
              "        const docLink = document.createElement('div');\n",
              "        docLink.innerHTML = docLinkHtml;\n",
              "        element.appendChild(docLink);\n",
              "      }\n",
              "    </script>\n",
              "  </div>\n",
              "\n",
              "\n",
              "<div id=\"df-34cd20b1-19f0-4373-8540-435ff656ddd8\">\n",
              "  <button class=\"colab-df-quickchart\" onclick=\"quickchart('df-34cd20b1-19f0-4373-8540-435ff656ddd8')\"\n",
              "            title=\"Suggest charts\"\n",
              "            style=\"display:none;\">\n",
              "\n",
              "<svg xmlns=\"http://www.w3.org/2000/svg\" height=\"24px\"viewBox=\"0 0 24 24\"\n",
              "     width=\"24px\">\n",
              "    <g>\n",
              "        <path d=\"M19 3H5c-1.1 0-2 .9-2 2v14c0 1.1.9 2 2 2h14c1.1 0 2-.9 2-2V5c0-1.1-.9-2-2-2zM9 17H7v-7h2v7zm4 0h-2V7h2v10zm4 0h-2v-4h2v4z\"/>\n",
              "    </g>\n",
              "</svg>\n",
              "  </button>\n",
              "\n",
              "<style>\n",
              "  .colab-df-quickchart {\n",
              "      --bg-color: #E8F0FE;\n",
              "      --fill-color: #1967D2;\n",
              "      --hover-bg-color: #E2EBFA;\n",
              "      --hover-fill-color: #174EA6;\n",
              "      --disabled-fill-color: #AAA;\n",
              "      --disabled-bg-color: #DDD;\n",
              "  }\n",
              "\n",
              "  [theme=dark] .colab-df-quickchart {\n",
              "      --bg-color: #3B4455;\n",
              "      --fill-color: #D2E3FC;\n",
              "      --hover-bg-color: #434B5C;\n",
              "      --hover-fill-color: #FFFFFF;\n",
              "      --disabled-bg-color: #3B4455;\n",
              "      --disabled-fill-color: #666;\n",
              "  }\n",
              "\n",
              "  .colab-df-quickchart {\n",
              "    background-color: var(--bg-color);\n",
              "    border: none;\n",
              "    border-radius: 50%;\n",
              "    cursor: pointer;\n",
              "    display: none;\n",
              "    fill: var(--fill-color);\n",
              "    height: 32px;\n",
              "    padding: 0;\n",
              "    width: 32px;\n",
              "  }\n",
              "\n",
              "  .colab-df-quickchart:hover {\n",
              "    background-color: var(--hover-bg-color);\n",
              "    box-shadow: 0 1px 2px rgba(60, 64, 67, 0.3), 0 1px 3px 1px rgba(60, 64, 67, 0.15);\n",
              "    fill: var(--button-hover-fill-color);\n",
              "  }\n",
              "\n",
              "  .colab-df-quickchart-complete:disabled,\n",
              "  .colab-df-quickchart-complete:disabled:hover {\n",
              "    background-color: var(--disabled-bg-color);\n",
              "    fill: var(--disabled-fill-color);\n",
              "    box-shadow: none;\n",
              "  }\n",
              "\n",
              "  .colab-df-spinner {\n",
              "    border: 2px solid var(--fill-color);\n",
              "    border-color: transparent;\n",
              "    border-bottom-color: var(--fill-color);\n",
              "    animation:\n",
              "      spin 1s steps(1) infinite;\n",
              "  }\n",
              "\n",
              "  @keyframes spin {\n",
              "    0% {\n",
              "      border-color: transparent;\n",
              "      border-bottom-color: var(--fill-color);\n",
              "      border-left-color: var(--fill-color);\n",
              "    }\n",
              "    20% {\n",
              "      border-color: transparent;\n",
              "      border-left-color: var(--fill-color);\n",
              "      border-top-color: var(--fill-color);\n",
              "    }\n",
              "    30% {\n",
              "      border-color: transparent;\n",
              "      border-left-color: var(--fill-color);\n",
              "      border-top-color: var(--fill-color);\n",
              "      border-right-color: var(--fill-color);\n",
              "    }\n",
              "    40% {\n",
              "      border-color: transparent;\n",
              "      border-right-color: var(--fill-color);\n",
              "      border-top-color: var(--fill-color);\n",
              "    }\n",
              "    60% {\n",
              "      border-color: transparent;\n",
              "      border-right-color: var(--fill-color);\n",
              "    }\n",
              "    80% {\n",
              "      border-color: transparent;\n",
              "      border-right-color: var(--fill-color);\n",
              "      border-bottom-color: var(--fill-color);\n",
              "    }\n",
              "    90% {\n",
              "      border-color: transparent;\n",
              "      border-bottom-color: var(--fill-color);\n",
              "    }\n",
              "  }\n",
              "</style>\n",
              "\n",
              "  <script>\n",
              "    async function quickchart(key) {\n",
              "      const quickchartButtonEl =\n",
              "        document.querySelector('#' + key + ' button');\n",
              "      quickchartButtonEl.disabled = true;  // To prevent multiple clicks.\n",
              "      quickchartButtonEl.classList.add('colab-df-spinner');\n",
              "      try {\n",
              "        const charts = await google.colab.kernel.invokeFunction(\n",
              "            'suggestCharts', [key], {});\n",
              "      } catch (error) {\n",
              "        console.error('Error during call to suggestCharts:', error);\n",
              "      }\n",
              "      quickchartButtonEl.classList.remove('colab-df-spinner');\n",
              "      quickchartButtonEl.classList.add('colab-df-quickchart-complete');\n",
              "    }\n",
              "    (() => {\n",
              "      let quickchartButtonEl =\n",
              "        document.querySelector('#df-34cd20b1-19f0-4373-8540-435ff656ddd8 button');\n",
              "      quickchartButtonEl.style.display =\n",
              "        google.colab.kernel.accessAllowed ? 'block' : 'none';\n",
              "    })();\n",
              "  </script>\n",
              "</div>\n",
              "    </div>\n",
              "  </div>\n"
            ]
          },
          "metadata": {},
          "execution_count": 8
        }
      ],
      "source": [
        "dataset"
      ]
    },
    {
      "cell_type": "markdown",
      "metadata": {
        "id": "fozN80K115Jd"
      },
      "source": [
        "#Univariate Regression"
      ]
    },
    {
      "cell_type": "code",
      "execution_count": 9,
      "metadata": {
        "id": "Z0opk9Wt2PCK"
      },
      "outputs": [],
      "source": [
        "x_data = dataset['sqft_living']\n",
        "y_data = dataset['price']"
      ]
    },
    {
      "cell_type": "code",
      "execution_count": 10,
      "metadata": {
        "id": "HbQi1sW33bl7",
        "colab": {
          "base_uri": "https://localhost:8080/"
        },
        "outputId": "f35df380-b81a-4fdf-e9f6-184c044fc54b"
      },
      "outputs": [
        {
          "output_type": "execute_result",
          "data": {
            "text/plain": [
              "0       1340\n",
              "1       3650\n",
              "2       1930\n",
              "3       2000\n",
              "4       1940\n",
              "        ... \n",
              "4595    1510\n",
              "4596    1460\n",
              "4597    3010\n",
              "4598    2090\n",
              "4599    1490\n",
              "Name: sqft_living, Length: 4600, dtype: int64"
            ]
          },
          "metadata": {},
          "execution_count": 10
        }
      ],
      "source": [
        "x_data"
      ]
    },
    {
      "cell_type": "code",
      "execution_count": 11,
      "metadata": {
        "id": "YnRegTdw2cD4",
        "colab": {
          "base_uri": "https://localhost:8080/"
        },
        "outputId": "57214bad-a96a-46ed-e020-646ba28d1312"
      },
      "outputs": [
        {
          "output_type": "stream",
          "name": "stdout",
          "text": [
            "[[1340]\n",
            " [3650]\n",
            " [1930]\n",
            " ...\n",
            " [3010]\n",
            " [2090]\n",
            " [1490]]\n"
          ]
        }
      ],
      "source": [
        "# Create each single feature as a vector\n",
        "x_data = np.array(x_data).reshape((-1,1))\n",
        "print(x_data)"
      ]
    },
    {
      "cell_type": "code",
      "execution_count": 12,
      "metadata": {
        "id": "gizLmb8at3aG",
        "colab": {
          "base_uri": "https://localhost:8080/"
        },
        "outputId": "2a64e6b9-985a-4994-b971-a8573c7ad407"
      },
      "outputs": [
        {
          "output_type": "stream",
          "name": "stdout",
          "text": [
            "shape of training samples: (3910, 1)\n",
            "shape of test samples : (690, 1)\n",
            "shape of train labels : (3910,)\n",
            "shape of test labels: (690,)\n"
          ]
        }
      ],
      "source": [
        "from sklearn.model_selection import train_test_split\n",
        "\n",
        "x_train, x_test, y_train, y_test = train_test_split(x_data, y_data, test_size=0.15, random_state=1)\n",
        "\n",
        "\n",
        "print(\"shape of training samples:\",x_train.shape)\n",
        "print(\"shape of test samples :\", x_test.shape)\n",
        "print(\"shape of train labels :\", y_train.shape)\n",
        "print(\"shape of test labels:\",y_test.shape)\n",
        "\n"
      ]
    },
    {
      "cell_type": "code",
      "execution_count": 13,
      "metadata": {
        "id": "VaadfoAUsfkw"
      },
      "outputs": [],
      "source": [
        "import matplotlib.pyplot as plt\n",
        "from sklearn.linear_model import LinearRegression"
      ]
    },
    {
      "cell_type": "code",
      "execution_count": 14,
      "metadata": {
        "id": "K--5EU573sDE",
        "colab": {
          "base_uri": "https://localhost:8080/",
          "height": 75
        },
        "outputId": "a2cb83fb-575d-4f89-be96-785f025f78a1"
      },
      "outputs": [
        {
          "output_type": "execute_result",
          "data": {
            "text/plain": [
              "LinearRegression()"
            ],
            "text/html": [
              "<style>#sk-container-id-1 {color: black;background-color: white;}#sk-container-id-1 pre{padding: 0;}#sk-container-id-1 div.sk-toggleable {background-color: white;}#sk-container-id-1 label.sk-toggleable__label {cursor: pointer;display: block;width: 100%;margin-bottom: 0;padding: 0.3em;box-sizing: border-box;text-align: center;}#sk-container-id-1 label.sk-toggleable__label-arrow:before {content: \"▸\";float: left;margin-right: 0.25em;color: #696969;}#sk-container-id-1 label.sk-toggleable__label-arrow:hover:before {color: black;}#sk-container-id-1 div.sk-estimator:hover label.sk-toggleable__label-arrow:before {color: black;}#sk-container-id-1 div.sk-toggleable__content {max-height: 0;max-width: 0;overflow: hidden;text-align: left;background-color: #f0f8ff;}#sk-container-id-1 div.sk-toggleable__content pre {margin: 0.2em;color: black;border-radius: 0.25em;background-color: #f0f8ff;}#sk-container-id-1 input.sk-toggleable__control:checked~div.sk-toggleable__content {max-height: 200px;max-width: 100%;overflow: auto;}#sk-container-id-1 input.sk-toggleable__control:checked~label.sk-toggleable__label-arrow:before {content: \"▾\";}#sk-container-id-1 div.sk-estimator input.sk-toggleable__control:checked~label.sk-toggleable__label {background-color: #d4ebff;}#sk-container-id-1 div.sk-label input.sk-toggleable__control:checked~label.sk-toggleable__label {background-color: #d4ebff;}#sk-container-id-1 input.sk-hidden--visually {border: 0;clip: rect(1px 1px 1px 1px);clip: rect(1px, 1px, 1px, 1px);height: 1px;margin: -1px;overflow: hidden;padding: 0;position: absolute;width: 1px;}#sk-container-id-1 div.sk-estimator {font-family: monospace;background-color: #f0f8ff;border: 1px dotted black;border-radius: 0.25em;box-sizing: border-box;margin-bottom: 0.5em;}#sk-container-id-1 div.sk-estimator:hover {background-color: #d4ebff;}#sk-container-id-1 div.sk-parallel-item::after {content: \"\";width: 100%;border-bottom: 1px solid gray;flex-grow: 1;}#sk-container-id-1 div.sk-label:hover label.sk-toggleable__label {background-color: #d4ebff;}#sk-container-id-1 div.sk-serial::before {content: \"\";position: absolute;border-left: 1px solid gray;box-sizing: border-box;top: 0;bottom: 0;left: 50%;z-index: 0;}#sk-container-id-1 div.sk-serial {display: flex;flex-direction: column;align-items: center;background-color: white;padding-right: 0.2em;padding-left: 0.2em;position: relative;}#sk-container-id-1 div.sk-item {position: relative;z-index: 1;}#sk-container-id-1 div.sk-parallel {display: flex;align-items: stretch;justify-content: center;background-color: white;position: relative;}#sk-container-id-1 div.sk-item::before, #sk-container-id-1 div.sk-parallel-item::before {content: \"\";position: absolute;border-left: 1px solid gray;box-sizing: border-box;top: 0;bottom: 0;left: 50%;z-index: -1;}#sk-container-id-1 div.sk-parallel-item {display: flex;flex-direction: column;z-index: 1;position: relative;background-color: white;}#sk-container-id-1 div.sk-parallel-item:first-child::after {align-self: flex-end;width: 50%;}#sk-container-id-1 div.sk-parallel-item:last-child::after {align-self: flex-start;width: 50%;}#sk-container-id-1 div.sk-parallel-item:only-child::after {width: 0;}#sk-container-id-1 div.sk-dashed-wrapped {border: 1px dashed gray;margin: 0 0.4em 0.5em 0.4em;box-sizing: border-box;padding-bottom: 0.4em;background-color: white;}#sk-container-id-1 div.sk-label label {font-family: monospace;font-weight: bold;display: inline-block;line-height: 1.2em;}#sk-container-id-1 div.sk-label-container {text-align: center;}#sk-container-id-1 div.sk-container {/* jupyter's `normalize.less` sets `[hidden] { display: none; }` but bootstrap.min.css set `[hidden] { display: none !important; }` so we also need the `!important` here to be able to override the default hidden behavior on the sphinx rendered scikit-learn.org. See: https://github.com/scikit-learn/scikit-learn/issues/21755 */display: inline-block !important;position: relative;}#sk-container-id-1 div.sk-text-repr-fallback {display: none;}</style><div id=\"sk-container-id-1\" class=\"sk-top-container\"><div class=\"sk-text-repr-fallback\"><pre>LinearRegression()</pre><b>In a Jupyter environment, please rerun this cell to show the HTML representation or trust the notebook. <br />On GitHub, the HTML representation is unable to render, please try loading this page with nbviewer.org.</b></div><div class=\"sk-container\" hidden><div class=\"sk-item\"><div class=\"sk-estimator sk-toggleable\"><input class=\"sk-toggleable__control sk-hidden--visually\" id=\"sk-estimator-id-1\" type=\"checkbox\" checked><label for=\"sk-estimator-id-1\" class=\"sk-toggleable__label sk-toggleable__label-arrow\">LinearRegression</label><div class=\"sk-toggleable__content\"><pre>LinearRegression()</pre></div></div></div></div></div>"
            ]
          },
          "metadata": {},
          "execution_count": 14
        }
      ],
      "source": [
        "from numpy.ma.core import nonzero\n",
        "lre=LinearRegression()\n",
        "\n",
        "lre.fit(x_train,y_train)"
      ]
    },
    {
      "cell_type": "code",
      "execution_count": 15,
      "metadata": {
        "id": "_VURRmviw9Ok",
        "colab": {
          "base_uri": "https://localhost:8080/"
        },
        "outputId": "86327229-a70b-483c-97b4-1959e7825ca8"
      },
      "outputs": [
        {
          "output_type": "stream",
          "name": "stdout",
          "text": [
            "Intercept is  17548.86186971469 \n",
            " Coef is [250.87701234]\n"
          ]
        }
      ],
      "source": [
        "print(\"Intercept is \",lre.intercept_,\"\\n\",\"Coef is\",lre.coef_)"
      ]
    },
    {
      "cell_type": "code",
      "execution_count": 16,
      "metadata": {
        "id": "uT2eTaqExK6f",
        "colab": {
          "base_uri": "https://localhost:8080/"
        },
        "outputId": "9be736b9-7cd9-4e40-9b54-7e9863908eb7"
      },
      "outputs": [
        {
          "output_type": "stream",
          "name": "stdout",
          "text": [
            "R Square value is  0.42661862607668444\n"
          ]
        }
      ],
      "source": [
        "r_squared = lre.score(x_test, y_test)\n",
        "print(\"R Square value is \",r_squared)"
      ]
    },
    {
      "cell_type": "code",
      "execution_count": 17,
      "metadata": {
        "id": "uJX8CMzOyT5q",
        "colab": {
          "base_uri": "https://localhost:8080/"
        },
        "outputId": "b30f0db9-bb39-4dfa-b86a-6b85d1743a56"
      },
      "outputs": [
        {
          "output_type": "stream",
          "name": "stdout",
          "text": [
            "predicted response:\n",
            "[ 602092.30061768  702443.10555295  323618.8169223   694916.79518281\n",
            "  539373.04753314  614636.15123459  285987.26507157  416443.31148743\n",
            "  481671.33469535  311074.96630539  519302.88654608  381320.52976008\n",
            "  363759.13889641  815337.76110514  185636.4601363   604601.07074106\n",
            "  672337.86407237  506759.03592917  418952.08161081  536864.27740975\n",
            "  540627.43259483  479162.56457197  669829.09394899  346197.74803273\n",
            "  702443.10555295  371285.44926655  263408.33396113  288496.03519495\n",
            "  627180.0018515   551916.89815004  388846.84013023  679864.17444252\n",
            "  280969.72482481  343688.97790935  584530.90975401  441531.01272124\n",
            "  240829.4028507   411425.77124066  720004.49641663  243338.17297408\n",
            "  933249.95690408  393864.38037699  592057.22012415  554425.66827343\n",
            "  545644.97284159  609618.61098783  516794.1164227   807811.45073499\n",
            "  434004.7023511   720004.49641663  903144.7154235   662302.78357885\n",
            "  491706.41518888  328636.35716906  511776.57617594  649758.93296194\n",
            "  383829.29988346  260899.56383775  408917.00111728  612127.38111121\n",
            "  373794.21938993  516794.1164227   428987.16210433  699934.33542957\n",
            "  321110.04679892  373794.21938993  336162.66753921  489197.6450655\n",
            "  431495.93222772  687390.48481266  471636.25420183  255882.02359099\n",
            "  637215.08234503  306057.42605863  602092.30061768  398881.92062375\n",
            "  333653.89741583  719502.74239195  459092.40358492  687390.48481266\n",
            "  220759.24186364  306057.42605863  439022.24259786  677355.40431914\n",
            "  564460.74876695  672337.86407237  915688.56604041  293513.57544172\n",
            "  371285.44926655  722513.26654001  449057.32309139  306057.42605863\n",
            "  368776.67914317 1056179.69294979  737565.8872803   318601.27667553\n",
            "  378811.7596367   632197.54209826  476653.79444859  371285.44926655\n",
            "  494215.18531226  546899.35790328  213232.9314935   413934.54136404\n",
            "  391355.61025361  521811.65666946 1540372.32676249  531846.73716299\n",
            "  258390.79371437  747600.96777383  790250.05987132  549408.12802666\n",
            "  855478.08307925  539373.04753314  604601.07074106  659794.01345546\n",
            "  321110.04679892  654776.4732087   544390.5877799   890600.86480659\n",
            "  534355.50728637  388846.84013023  336162.66753921  506759.03592917\n",
            "  935758.72702746  273443.41445466  293513.57544172  692408.02505943\n",
            "  559443.20852019  408917.00111728  765162.3586375   460346.78864661\n",
            "  275952.18457804  436513.47247448  868021.93369616  857986.85320263\n",
            "  810320.22085837  449057.32309139  321110.04679892  486688.87494212\n",
            " 1409916.28034663  205706.62112335 1077504.23899854  464109.94383168\n",
            "  689899.25493605  521811.65666946  474145.02432521  747600.96777383\n",
            "  772688.66900765  614636.15123459  812828.99098176  358741.59864964\n",
            "  469127.48407844  421460.85173419  919451.72122548  657285.24333208\n",
            "  574495.82926048  579513.36950724  624671.23172812  539373.04753314\n",
            "  434004.7023511   978658.69613729  367773.17109382  283478.49494819\n",
            "  506759.03592917  408917.00111728  564460.74876695  730039.57691015\n",
            "  449057.32309139  629688.77197488  657285.24333208  519302.88654608\n",
            "  692408.02505943  677355.40431914  401390.69074713  714986.95616986\n",
            "  820355.3013519   817846.53122852  577004.59938386  506759.03592917\n",
            "  391355.61025361  770430.7758966   386338.07000684  223268.01198702\n",
            "  792758.8299947   707460.64579972  735057.11715692  852969.31295586\n",
            "  687390.48481266  649758.93296194  381320.52976008  599583.5304943\n",
            "  449057.32309139  183127.69001292  491706.41518888  373794.21938993\n",
            "  873039.47394292  351215.2882795   454074.86333815  589548.45000077\n",
            "  423969.62185757  692408.02505943  852969.31295586  687390.48481266\n",
            "  536864.27740975  888092.09468321  418952.08161081  353724.05840288\n",
            "  263408.33396113  303548.65593524  245846.94309746  735057.11715692\n",
            "  592057.22012415  148004.90828557  403899.46087052  245846.94309746\n",
            "  654776.4732087   782723.74950117  436513.47247448  642232.62259179\n",
            "  632197.54209826  439022.24259786  790250.05987132  323618.8169223\n",
            "  539373.04753314  193162.77050644  494215.18531226  546899.35790328\n",
            "  361250.36877303  474145.02432521  380066.14469839  514285.34629932\n",
            "  549408.12802666  328636.35716906  694916.79518281  423969.62185757\n",
            "  539373.04753314  943285.03739761  609618.61098783  850460.54283248\n",
            "  461601.1737083   291004.80531833  526829.19691623  619653.69148135\n",
            "  564460.74876695  770179.89888426  564460.74876695  486688.87494212\n",
            "  243338.17297408  785232.51962455  499232.72555903  278460.95470143\n",
            "  273443.41445466  368776.67914317 1093811.24480052 1048653.38257965\n",
            "  752618.50802059  371285.44926655  484180.10481874  311074.96630539\n",
            "  643487.00765348  521811.65666946  627180.0018515   474145.02432521\n",
            "  454074.86333815  318601.27667553  313583.73642877  617144.92135797\n",
            "  413934.54136404  571987.0591371   725022.03666339  524320.42679284\n",
            "  371285.44926655  238320.63272732  403899.46087052  772688.66900765\n",
            "  250864.48334422  571987.0591371   416443.31148743  720004.49641663\n",
            "  275952.18457804  280969.72482481  990951.66974187  594565.99024754\n",
            "  280969.72482481  346197.74803273  730039.57691015  938267.49715085\n",
            "  406408.2309939   647250.16283855  298531.11568848  873039.47394292\n",
            "  240829.4028507   797776.37024146  546899.35790328  441531.01272124\n",
            " 1108863.86554081  584530.90975401  519302.88654608  787741.28974794\n",
            "  602092.30061768  727530.80678677  639723.85246841  328636.35716906\n",
            "  291004.80531833  597074.76037092  835407.92209219  554425.66827343\n",
            "  627180.0018515   481671.33469535  318601.27667553  624671.23172812\n",
            "  725022.03666339  423969.62185757  780214.97937779  486688.87494212\n",
            " 1058688.46307317  582022.13963063  270934.64433128  408917.00111728\n",
            "  694916.79518281  313583.73642877  760144.81839074  514285.34629932\n",
            "  832899.15196881  474145.02432521  393864.38037699  546899.35790328\n",
            "  446548.55296801  521811.65666946  720004.49641663 1091302.47467714\n",
            "  925723.64653394  632197.54209826  380066.14469839  694916.79518281\n",
            "  223268.01198702  311074.96630539  539373.04753314  371285.44926655\n",
            "  356232.82852626  634706.31222165  800285.14036485  318601.27667553\n",
            "  735057.11715692  704951.87567634 1507758.31515852  436513.47247448\n",
            "  373794.21938993  501741.49568241  662302.78357885  689899.25493605\n",
            "  689899.25493605 1023565.68134583  306057.42605863  416443.31148743\n",
            "  418952.08161081  544390.5877799   657285.24333208  391355.61025361\n",
            "  270934.64433128 1179109.4289955   682372.9445659   235811.86260393\n",
            "  469127.48407844  416443.31148743  228285.55223379  534355.50728637\n",
            "  293513.57544172  413934.54136404  393864.38037699  531846.73716299\n",
            "  423969.62185757  659794.01345546  549408.12802666  860495.62332601\n",
            "  311074.96630539  378811.7596367   587039.67987739  717495.72629325\n",
            "  489197.6450655   461601.1737083   890600.86480659  531846.73716299\n",
            "  439022.24259786  511776.57617594  388846.84013023 1036109.53196274\n",
            "  597074.76037092  275952.18457804  255882.02359099  368776.67914317\n",
            "  564460.74876695  637215.08234503  509267.80605255  398881.92062375\n",
            "  674846.63419575  343688.97790935 1467617.99318441  725022.03666339\n",
            "  388846.84013023  592057.22012415  514285.34629932  755127.27814397\n",
            "  549408.12802666  983425.35937172  323618.8169223   657285.24333208\n",
            "  403899.46087052  368776.67914317  434004.7023511   792758.8299947\n",
            "  514285.34629932  268425.8742079   629688.77197488  431495.93222772\n",
            "  910671.02579365  368776.67914317  489197.6450655   311074.96630539\n",
            "  386338.07000684  682372.9445659   604851.9477534   283478.49494819\n",
            "  672337.86407237 1161548.03813183  431495.93222772  358741.59864964\n",
            "  639723.85246841  318601.27667553  832899.15196881  489197.6450655\n",
            "  604601.07074106  632197.54209826  496723.95543564 1106355.09541743\n",
            "  376302.98951332  815337.76110514  265917.10408452  511776.57617594\n",
            "  401390.69074713  328636.35716906  371285.44926655  316092.50655215\n",
            "  900635.94530012  742583.42752706  228285.55223379  459092.40358492\n",
            "  509267.80605255  682372.9445659   428987.16210433  195671.54062982\n",
            "  464109.94383168  446548.55296801  233303.09248055  428987.16210433\n",
            "  356232.82852626  604601.07074106  786236.02767391  785232.51962455\n",
            "  534355.50728637  291004.80531833 1680863.45367187  544390.5877799\n",
            "  343688.97790935  403899.46087052  697425.56530619  283478.49494819\n",
            "  479162.56457197  263910.08798581  275952.18457804  439022.24259786\n",
            "  451566.09321477  378811.7596367   413934.54136404  883074.55443645\n",
            "  436513.47247448  777706.20925441  679864.17444252  810320.22085837\n",
            "  812828.99098176  383829.29988346  250864.48334422  589548.45000077\n",
            "  491706.41518888  509267.80605255 1786231.79885391  298531.11568848\n",
            "  496723.95543564  607109.84086444  629688.77197488  210724.16137012\n",
            "  270934.64433128  428987.16210433  408917.00111728  419202.95862315\n",
            "  519302.88654608  569478.28901372  770179.89888426  358741.59864964\n",
            "  401390.69074713  258390.79371437  215741.70161688  657285.24333208\n",
            "  642232.62259179  654776.4732087   393864.38037699  291004.80531833\n",
            "  624671.23172812  825372.84159866  566969.51889034  775197.43913103\n",
            "  561951.97864357  802793.91048823  569478.28901372  306057.42605863\n",
            "  504250.26580579 1437512.75170383  491706.41518888  669829.09394899\n",
            "  526829.19691623  481671.33469535  564460.74876695  173092.60951939\n",
            "  296022.3455651   499232.72555903  511776.57617594  539373.04753314\n",
            "  524320.42679284  536864.27740975  343688.97790935  233303.09248055\n",
            "  296022.3455651   418952.08161081  595318.62128455  444039.78284463\n",
            "  507762.54397852  619653.69148135  454074.86333815 1186635.73936565\n",
            "  371285.44926655  431495.93222772 1086284.93443037  270934.64433128\n",
            "  333653.89741583  434004.7023511   514285.34629932  560195.8395572\n",
            " 1113881.40578757  689899.25493605  730039.57691015  534355.50728637\n",
            "  559443.20852019  657285.24333208  602092.30061768 1136460.33689801\n",
            "  421460.85173419 1487688.15417147  393864.38037699  536864.27740975\n",
            "  687390.48481266  627180.0018515   790250.05987132  366267.90901979\n",
            "  426478.39198095  702443.10555295  494215.18531226  531846.73716299\n",
            "  393864.38037699  594565.99024754  639723.85246841  980916.58924834\n",
            "  529337.96703961  634706.31222165  351215.2882795   602092.30061768\n",
            "  479162.56457197  787741.28974794  863004.39344939  714986.95616986\n",
            "  439022.24259786  343688.97790935  566969.51889034  165566.29914924\n",
            "  469127.48407844  930741.1867807   496723.95543564  396373.15050037\n",
            "  787741.28974794 1455074.1425675   707460.64579972  426478.39198095\n",
            "  363759.13889641  506759.03592917  765162.3586375   559443.20852019\n",
            "  441531.01272124  494215.18531226  431495.93222772  652267.70308532\n",
            " 1008513.06060554  238320.63272732  348706.51815612  669829.09394899\n",
            "  689899.25493605  995969.20998863  682372.9445659   308566.19618201\n",
            "  569478.28901372 1018548.14109907  371285.44926655  546899.35790328\n",
            "  444039.78284463  373794.21938993  343688.97790935  514285.34629932\n",
            "  434004.7023511   308566.19618201  807811.45073499  654776.4732087\n",
            "  356232.82852626  634706.31222165  110373.35643484  908162.25567026\n",
            "  697425.56530619  333653.89741583  597074.76037092  561951.97864357\n",
            "  338671.43766259  797776.37024146  938267.49715085  348706.51815612\n",
            "  602092.30061768 1141477.87714477  371285.44926655  308315.31916967\n",
            "  950811.34776776  682372.9445659   933249.95690408  985934.1294951\n",
            "  842934.23246234  556934.43839681  506759.03592917  865513.16357277\n",
            "  193162.77050644  908162.25567026  371285.44926655  391355.61025361\n",
            "  720004.49641663  594565.99024754  285987.26507157  381320.52976008\n",
            "  622162.46160474  396373.15050037  988442.89961848  484180.10481874\n",
            "  870530.70381954  842934.23246234  258390.79371437  722513.26654001\n",
            "  556934.43839681  569478.28901372  363759.13889641  283478.49494819\n",
            "  715739.58720688  682372.9445659   447802.9380297   597074.76037092\n",
            "  220759.24186364  541881.81765652  577004.59938386  311074.96630539\n",
            " 1088793.70455376  388846.84013023  278460.95470143  356232.82852626\n",
            "  574495.82926048  376302.98951332  519302.88654608  571987.0591371\n",
            "  519302.88654608  396373.15050037  280969.72482481  233303.09248055\n",
            "  762653.58851412  436513.47247448  712478.18604648  775197.43913103\n",
            "  564460.74876695  388846.84013023]\n"
          ]
        }
      ],
      "source": [
        "\n",
        "y_pred = lre.predict(x_test)\n",
        "print(f\"predicted response:\\n{y_pred}\")"
      ]
    },
    {
      "cell_type": "code",
      "execution_count": 18,
      "metadata": {
        "id": "jl0VZUbZ4AOC",
        "colab": {
          "base_uri": "https://localhost:8080/"
        },
        "outputId": "26dc961b-ddaa-411b-9a41-a50ad914c119"
      },
      "outputs": [
        {
          "output_type": "stream",
          "name": "stdout",
          "text": [
            "MSE is: 78142113488.84763\n",
            "RMSE is: 279539.10905067937\n",
            "R_squared is: 0.42661862607668444\n"
          ]
        }
      ],
      "source": [
        "from sklearn.metrics import mean_squared_error\n",
        "MSE = mean_squared_error(y_test, y_pred)\n",
        "RMSE = mean_squared_error(y_test, y_pred, squared=False)\n",
        "print(\"MSE is:\", MSE)\n",
        "print(\"RMSE is:\", RMSE)\n",
        "print(\"R_squared is:\", r_squared)"
      ]
    },
    {
      "cell_type": "markdown",
      "metadata": {
        "id": "0uXlGI44ufMC"
      },
      "source": [
        "# Multivariate Regression"
      ]
    },
    {
      "cell_type": "code",
      "execution_count": 19,
      "metadata": {
        "id": "AllEUmCMvY2l"
      },
      "outputs": [],
      "source": [
        "x_data = dataset[[ 'bedrooms','bathrooms','sqft_living']]\n",
        "y_data = dataset['price']"
      ]
    },
    {
      "cell_type": "code",
      "execution_count": 20,
      "metadata": {
        "id": "NT_-0li945Os",
        "colab": {
          "base_uri": "https://localhost:8080/",
          "height": 206
        },
        "outputId": "65f9fc61-6a03-42fa-d7b4-f7c9be772858"
      },
      "outputs": [
        {
          "output_type": "execute_result",
          "data": {
            "text/plain": [
              "   bedrooms  bathrooms  sqft_living\n",
              "0       3.0       1.50         1340\n",
              "1       5.0       2.50         3650\n",
              "2       3.0       2.00         1930\n",
              "3       3.0       2.25         2000\n",
              "4       4.0       2.50         1940"
            ],
            "text/html": [
              "\n",
              "  <div id=\"df-04c0736d-13a3-4a18-96e6-3b883e1a071e\" class=\"colab-df-container\">\n",
              "    <div>\n",
              "<style scoped>\n",
              "    .dataframe tbody tr th:only-of-type {\n",
              "        vertical-align: middle;\n",
              "    }\n",
              "\n",
              "    .dataframe tbody tr th {\n",
              "        vertical-align: top;\n",
              "    }\n",
              "\n",
              "    .dataframe thead th {\n",
              "        text-align: right;\n",
              "    }\n",
              "</style>\n",
              "<table border=\"1\" class=\"dataframe\">\n",
              "  <thead>\n",
              "    <tr style=\"text-align: right;\">\n",
              "      <th></th>\n",
              "      <th>bedrooms</th>\n",
              "      <th>bathrooms</th>\n",
              "      <th>sqft_living</th>\n",
              "    </tr>\n",
              "  </thead>\n",
              "  <tbody>\n",
              "    <tr>\n",
              "      <th>0</th>\n",
              "      <td>3.0</td>\n",
              "      <td>1.50</td>\n",
              "      <td>1340</td>\n",
              "    </tr>\n",
              "    <tr>\n",
              "      <th>1</th>\n",
              "      <td>5.0</td>\n",
              "      <td>2.50</td>\n",
              "      <td>3650</td>\n",
              "    </tr>\n",
              "    <tr>\n",
              "      <th>2</th>\n",
              "      <td>3.0</td>\n",
              "      <td>2.00</td>\n",
              "      <td>1930</td>\n",
              "    </tr>\n",
              "    <tr>\n",
              "      <th>3</th>\n",
              "      <td>3.0</td>\n",
              "      <td>2.25</td>\n",
              "      <td>2000</td>\n",
              "    </tr>\n",
              "    <tr>\n",
              "      <th>4</th>\n",
              "      <td>4.0</td>\n",
              "      <td>2.50</td>\n",
              "      <td>1940</td>\n",
              "    </tr>\n",
              "  </tbody>\n",
              "</table>\n",
              "</div>\n",
              "    <div class=\"colab-df-buttons\">\n",
              "\n",
              "  <div class=\"colab-df-container\">\n",
              "    <button class=\"colab-df-convert\" onclick=\"convertToInteractive('df-04c0736d-13a3-4a18-96e6-3b883e1a071e')\"\n",
              "            title=\"Convert this dataframe to an interactive table.\"\n",
              "            style=\"display:none;\">\n",
              "\n",
              "  <svg xmlns=\"http://www.w3.org/2000/svg\" height=\"24px\" viewBox=\"0 -960 960 960\">\n",
              "    <path d=\"M120-120v-720h720v720H120Zm60-500h600v-160H180v160Zm220 220h160v-160H400v160Zm0 220h160v-160H400v160ZM180-400h160v-160H180v160Zm440 0h160v-160H620v160ZM180-180h160v-160H180v160Zm440 0h160v-160H620v160Z\"/>\n",
              "  </svg>\n",
              "    </button>\n",
              "\n",
              "  <style>\n",
              "    .colab-df-container {\n",
              "      display:flex;\n",
              "      gap: 12px;\n",
              "    }\n",
              "\n",
              "    .colab-df-convert {\n",
              "      background-color: #E8F0FE;\n",
              "      border: none;\n",
              "      border-radius: 50%;\n",
              "      cursor: pointer;\n",
              "      display: none;\n",
              "      fill: #1967D2;\n",
              "      height: 32px;\n",
              "      padding: 0 0 0 0;\n",
              "      width: 32px;\n",
              "    }\n",
              "\n",
              "    .colab-df-convert:hover {\n",
              "      background-color: #E2EBFA;\n",
              "      box-shadow: 0px 1px 2px rgba(60, 64, 67, 0.3), 0px 1px 3px 1px rgba(60, 64, 67, 0.15);\n",
              "      fill: #174EA6;\n",
              "    }\n",
              "\n",
              "    .colab-df-buttons div {\n",
              "      margin-bottom: 4px;\n",
              "    }\n",
              "\n",
              "    [theme=dark] .colab-df-convert {\n",
              "      background-color: #3B4455;\n",
              "      fill: #D2E3FC;\n",
              "    }\n",
              "\n",
              "    [theme=dark] .colab-df-convert:hover {\n",
              "      background-color: #434B5C;\n",
              "      box-shadow: 0px 1px 3px 1px rgba(0, 0, 0, 0.15);\n",
              "      filter: drop-shadow(0px 1px 2px rgba(0, 0, 0, 0.3));\n",
              "      fill: #FFFFFF;\n",
              "    }\n",
              "  </style>\n",
              "\n",
              "    <script>\n",
              "      const buttonEl =\n",
              "        document.querySelector('#df-04c0736d-13a3-4a18-96e6-3b883e1a071e button.colab-df-convert');\n",
              "      buttonEl.style.display =\n",
              "        google.colab.kernel.accessAllowed ? 'block' : 'none';\n",
              "\n",
              "      async function convertToInteractive(key) {\n",
              "        const element = document.querySelector('#df-04c0736d-13a3-4a18-96e6-3b883e1a071e');\n",
              "        const dataTable =\n",
              "          await google.colab.kernel.invokeFunction('convertToInteractive',\n",
              "                                                    [key], {});\n",
              "        if (!dataTable) return;\n",
              "\n",
              "        const docLinkHtml = 'Like what you see? Visit the ' +\n",
              "          '<a target=\"_blank\" href=https://colab.research.google.com/notebooks/data_table.ipynb>data table notebook</a>'\n",
              "          + ' to learn more about interactive tables.';\n",
              "        element.innerHTML = '';\n",
              "        dataTable['output_type'] = 'display_data';\n",
              "        await google.colab.output.renderOutput(dataTable, element);\n",
              "        const docLink = document.createElement('div');\n",
              "        docLink.innerHTML = docLinkHtml;\n",
              "        element.appendChild(docLink);\n",
              "      }\n",
              "    </script>\n",
              "  </div>\n",
              "\n",
              "\n",
              "<div id=\"df-7b59e487-f09a-4be0-96cc-f89f4da5a076\">\n",
              "  <button class=\"colab-df-quickchart\" onclick=\"quickchart('df-7b59e487-f09a-4be0-96cc-f89f4da5a076')\"\n",
              "            title=\"Suggest charts\"\n",
              "            style=\"display:none;\">\n",
              "\n",
              "<svg xmlns=\"http://www.w3.org/2000/svg\" height=\"24px\"viewBox=\"0 0 24 24\"\n",
              "     width=\"24px\">\n",
              "    <g>\n",
              "        <path d=\"M19 3H5c-1.1 0-2 .9-2 2v14c0 1.1.9 2 2 2h14c1.1 0 2-.9 2-2V5c0-1.1-.9-2-2-2zM9 17H7v-7h2v7zm4 0h-2V7h2v10zm4 0h-2v-4h2v4z\"/>\n",
              "    </g>\n",
              "</svg>\n",
              "  </button>\n",
              "\n",
              "<style>\n",
              "  .colab-df-quickchart {\n",
              "      --bg-color: #E8F0FE;\n",
              "      --fill-color: #1967D2;\n",
              "      --hover-bg-color: #E2EBFA;\n",
              "      --hover-fill-color: #174EA6;\n",
              "      --disabled-fill-color: #AAA;\n",
              "      --disabled-bg-color: #DDD;\n",
              "  }\n",
              "\n",
              "  [theme=dark] .colab-df-quickchart {\n",
              "      --bg-color: #3B4455;\n",
              "      --fill-color: #D2E3FC;\n",
              "      --hover-bg-color: #434B5C;\n",
              "      --hover-fill-color: #FFFFFF;\n",
              "      --disabled-bg-color: #3B4455;\n",
              "      --disabled-fill-color: #666;\n",
              "  }\n",
              "\n",
              "  .colab-df-quickchart {\n",
              "    background-color: var(--bg-color);\n",
              "    border: none;\n",
              "    border-radius: 50%;\n",
              "    cursor: pointer;\n",
              "    display: none;\n",
              "    fill: var(--fill-color);\n",
              "    height: 32px;\n",
              "    padding: 0;\n",
              "    width: 32px;\n",
              "  }\n",
              "\n",
              "  .colab-df-quickchart:hover {\n",
              "    background-color: var(--hover-bg-color);\n",
              "    box-shadow: 0 1px 2px rgba(60, 64, 67, 0.3), 0 1px 3px 1px rgba(60, 64, 67, 0.15);\n",
              "    fill: var(--button-hover-fill-color);\n",
              "  }\n",
              "\n",
              "  .colab-df-quickchart-complete:disabled,\n",
              "  .colab-df-quickchart-complete:disabled:hover {\n",
              "    background-color: var(--disabled-bg-color);\n",
              "    fill: var(--disabled-fill-color);\n",
              "    box-shadow: none;\n",
              "  }\n",
              "\n",
              "  .colab-df-spinner {\n",
              "    border: 2px solid var(--fill-color);\n",
              "    border-color: transparent;\n",
              "    border-bottom-color: var(--fill-color);\n",
              "    animation:\n",
              "      spin 1s steps(1) infinite;\n",
              "  }\n",
              "\n",
              "  @keyframes spin {\n",
              "    0% {\n",
              "      border-color: transparent;\n",
              "      border-bottom-color: var(--fill-color);\n",
              "      border-left-color: var(--fill-color);\n",
              "    }\n",
              "    20% {\n",
              "      border-color: transparent;\n",
              "      border-left-color: var(--fill-color);\n",
              "      border-top-color: var(--fill-color);\n",
              "    }\n",
              "    30% {\n",
              "      border-color: transparent;\n",
              "      border-left-color: var(--fill-color);\n",
              "      border-top-color: var(--fill-color);\n",
              "      border-right-color: var(--fill-color);\n",
              "    }\n",
              "    40% {\n",
              "      border-color: transparent;\n",
              "      border-right-color: var(--fill-color);\n",
              "      border-top-color: var(--fill-color);\n",
              "    }\n",
              "    60% {\n",
              "      border-color: transparent;\n",
              "      border-right-color: var(--fill-color);\n",
              "    }\n",
              "    80% {\n",
              "      border-color: transparent;\n",
              "      border-right-color: var(--fill-color);\n",
              "      border-bottom-color: var(--fill-color);\n",
              "    }\n",
              "    90% {\n",
              "      border-color: transparent;\n",
              "      border-bottom-color: var(--fill-color);\n",
              "    }\n",
              "  }\n",
              "</style>\n",
              "\n",
              "  <script>\n",
              "    async function quickchart(key) {\n",
              "      const quickchartButtonEl =\n",
              "        document.querySelector('#' + key + ' button');\n",
              "      quickchartButtonEl.disabled = true;  // To prevent multiple clicks.\n",
              "      quickchartButtonEl.classList.add('colab-df-spinner');\n",
              "      try {\n",
              "        const charts = await google.colab.kernel.invokeFunction(\n",
              "            'suggestCharts', [key], {});\n",
              "      } catch (error) {\n",
              "        console.error('Error during call to suggestCharts:', error);\n",
              "      }\n",
              "      quickchartButtonEl.classList.remove('colab-df-spinner');\n",
              "      quickchartButtonEl.classList.add('colab-df-quickchart-complete');\n",
              "    }\n",
              "    (() => {\n",
              "      let quickchartButtonEl =\n",
              "        document.querySelector('#df-7b59e487-f09a-4be0-96cc-f89f4da5a076 button');\n",
              "      quickchartButtonEl.style.display =\n",
              "        google.colab.kernel.accessAllowed ? 'block' : 'none';\n",
              "    })();\n",
              "  </script>\n",
              "</div>\n",
              "    </div>\n",
              "  </div>\n"
            ]
          },
          "metadata": {},
          "execution_count": 20
        }
      ],
      "source": [
        "x_data.head()"
      ]
    },
    {
      "cell_type": "code",
      "execution_count": 21,
      "metadata": {
        "id": "xKCZy9us4pt9",
        "colab": {
          "base_uri": "https://localhost:8080/"
        },
        "outputId": "5b7931cd-091c-496d-8a6b-27460bda8524"
      },
      "outputs": [
        {
          "output_type": "stream",
          "name": "stdout",
          "text": [
            "shape of training samples: (3910, 3)\n",
            "shape of test samples : (690, 3)\n",
            "shape of train labels : (3910,)\n",
            "shape of test labels: (690,)\n"
          ]
        }
      ],
      "source": [
        "from sklearn.model_selection import train_test_split\n",
        "\n",
        "x_train, x_test, y_train, y_test = train_test_split(x_data, y_data, test_size=0.15, random_state=1)\n",
        "\n",
        "\n",
        "print(\"shape of training samples:\",x_train.shape)\n",
        "print(\"shape of test samples :\", x_test.shape)\n",
        "print(\"shape of train labels :\", y_train.shape)\n",
        "print(\"shape of test labels:\",y_test.shape)"
      ]
    },
    {
      "cell_type": "code",
      "execution_count": 22,
      "metadata": {
        "id": "qWLaQVWf49rS",
        "colab": {
          "base_uri": "https://localhost:8080/",
          "height": 75
        },
        "outputId": "c51e6e8b-f0d7-4ceb-8cd1-330191891add"
      },
      "outputs": [
        {
          "output_type": "execute_result",
          "data": {
            "text/plain": [
              "LinearRegression()"
            ],
            "text/html": [
              "<style>#sk-container-id-2 {color: black;background-color: white;}#sk-container-id-2 pre{padding: 0;}#sk-container-id-2 div.sk-toggleable {background-color: white;}#sk-container-id-2 label.sk-toggleable__label {cursor: pointer;display: block;width: 100%;margin-bottom: 0;padding: 0.3em;box-sizing: border-box;text-align: center;}#sk-container-id-2 label.sk-toggleable__label-arrow:before {content: \"▸\";float: left;margin-right: 0.25em;color: #696969;}#sk-container-id-2 label.sk-toggleable__label-arrow:hover:before {color: black;}#sk-container-id-2 div.sk-estimator:hover label.sk-toggleable__label-arrow:before {color: black;}#sk-container-id-2 div.sk-toggleable__content {max-height: 0;max-width: 0;overflow: hidden;text-align: left;background-color: #f0f8ff;}#sk-container-id-2 div.sk-toggleable__content pre {margin: 0.2em;color: black;border-radius: 0.25em;background-color: #f0f8ff;}#sk-container-id-2 input.sk-toggleable__control:checked~div.sk-toggleable__content {max-height: 200px;max-width: 100%;overflow: auto;}#sk-container-id-2 input.sk-toggleable__control:checked~label.sk-toggleable__label-arrow:before {content: \"▾\";}#sk-container-id-2 div.sk-estimator input.sk-toggleable__control:checked~label.sk-toggleable__label {background-color: #d4ebff;}#sk-container-id-2 div.sk-label input.sk-toggleable__control:checked~label.sk-toggleable__label {background-color: #d4ebff;}#sk-container-id-2 input.sk-hidden--visually {border: 0;clip: rect(1px 1px 1px 1px);clip: rect(1px, 1px, 1px, 1px);height: 1px;margin: -1px;overflow: hidden;padding: 0;position: absolute;width: 1px;}#sk-container-id-2 div.sk-estimator {font-family: monospace;background-color: #f0f8ff;border: 1px dotted black;border-radius: 0.25em;box-sizing: border-box;margin-bottom: 0.5em;}#sk-container-id-2 div.sk-estimator:hover {background-color: #d4ebff;}#sk-container-id-2 div.sk-parallel-item::after {content: \"\";width: 100%;border-bottom: 1px solid gray;flex-grow: 1;}#sk-container-id-2 div.sk-label:hover label.sk-toggleable__label {background-color: #d4ebff;}#sk-container-id-2 div.sk-serial::before {content: \"\";position: absolute;border-left: 1px solid gray;box-sizing: border-box;top: 0;bottom: 0;left: 50%;z-index: 0;}#sk-container-id-2 div.sk-serial {display: flex;flex-direction: column;align-items: center;background-color: white;padding-right: 0.2em;padding-left: 0.2em;position: relative;}#sk-container-id-2 div.sk-item {position: relative;z-index: 1;}#sk-container-id-2 div.sk-parallel {display: flex;align-items: stretch;justify-content: center;background-color: white;position: relative;}#sk-container-id-2 div.sk-item::before, #sk-container-id-2 div.sk-parallel-item::before {content: \"\";position: absolute;border-left: 1px solid gray;box-sizing: border-box;top: 0;bottom: 0;left: 50%;z-index: -1;}#sk-container-id-2 div.sk-parallel-item {display: flex;flex-direction: column;z-index: 1;position: relative;background-color: white;}#sk-container-id-2 div.sk-parallel-item:first-child::after {align-self: flex-end;width: 50%;}#sk-container-id-2 div.sk-parallel-item:last-child::after {align-self: flex-start;width: 50%;}#sk-container-id-2 div.sk-parallel-item:only-child::after {width: 0;}#sk-container-id-2 div.sk-dashed-wrapped {border: 1px dashed gray;margin: 0 0.4em 0.5em 0.4em;box-sizing: border-box;padding-bottom: 0.4em;background-color: white;}#sk-container-id-2 div.sk-label label {font-family: monospace;font-weight: bold;display: inline-block;line-height: 1.2em;}#sk-container-id-2 div.sk-label-container {text-align: center;}#sk-container-id-2 div.sk-container {/* jupyter's `normalize.less` sets `[hidden] { display: none; }` but bootstrap.min.css set `[hidden] { display: none !important; }` so we also need the `!important` here to be able to override the default hidden behavior on the sphinx rendered scikit-learn.org. See: https://github.com/scikit-learn/scikit-learn/issues/21755 */display: inline-block !important;position: relative;}#sk-container-id-2 div.sk-text-repr-fallback {display: none;}</style><div id=\"sk-container-id-2\" class=\"sk-top-container\"><div class=\"sk-text-repr-fallback\"><pre>LinearRegression()</pre><b>In a Jupyter environment, please rerun this cell to show the HTML representation or trust the notebook. <br />On GitHub, the HTML representation is unable to render, please try loading this page with nbviewer.org.</b></div><div class=\"sk-container\" hidden><div class=\"sk-item\"><div class=\"sk-estimator sk-toggleable\"><input class=\"sk-toggleable__control sk-hidden--visually\" id=\"sk-estimator-id-2\" type=\"checkbox\" checked><label for=\"sk-estimator-id-2\" class=\"sk-toggleable__label sk-toggleable__label-arrow\">LinearRegression</label><div class=\"sk-toggleable__content\"><pre>LinearRegression()</pre></div></div></div></div></div>"
            ]
          },
          "metadata": {},
          "execution_count": 22
        }
      ],
      "source": [
        "import matplotlib.pyplot as plt\n",
        "from sklearn.linear_model import LinearRegression\n",
        "lre=LinearRegression()\n",
        "\n",
        "lre.fit(x_train,y_train)"
      ]
    },
    {
      "cell_type": "code",
      "execution_count": 23,
      "metadata": {
        "id": "00rQVm_w5GHf",
        "colab": {
          "base_uri": "https://localhost:8080/"
        },
        "outputId": "a7c95363-fab3-47d6-f028-9d0f21a6af9d"
      },
      "outputs": [
        {
          "output_type": "stream",
          "name": "stdout",
          "text": [
            "Intercept is  120811.6314257487 \n",
            " Coefficients are [-52657.08805055  14542.51392979    271.69893737]\n"
          ]
        }
      ],
      "source": [
        "print(\"Intercept is \",lre.intercept_,\"\\n\",\"Coefficients are\",lre.coef_)"
      ]
    },
    {
      "cell_type": "code",
      "execution_count": 24,
      "metadata": {
        "id": "4dI88_Wf5J-z",
        "colab": {
          "base_uri": "https://localhost:8080/"
        },
        "outputId": "dff9c393-25b1-472f-821e-72d01b5725a5"
      },
      "outputs": [
        {
          "output_type": "stream",
          "name": "stdout",
          "text": [
            "R Square value is  0.4450186747118554\n"
          ]
        }
      ],
      "source": [
        "r_squared = lre.score(x_test, y_test)\n",
        "print(\"R Square value is \",r_squared)"
      ]
    },
    {
      "cell_type": "code",
      "execution_count": 25,
      "metadata": {
        "id": "DuUiaFvG5O7O",
        "colab": {
          "base_uri": "https://localhost:8080/"
        },
        "outputId": "d89c8bf5-e89a-4d3b-b160-70cc6060a4f9"
      },
      "outputs": [
        {
          "output_type": "stream",
          "name": "stdout",
          "text": [
            "predicted response:\n",
            "[ 519669.74311355  740934.75112906  323398.09872973  669219.80950996\n",
            "  586144.21273077  645840.12304823  268100.74419387  304070.01552715\n",
            "  501839.68624012  358834.61142914  489937.43879564  318689.25234537\n",
            "  359598.67174464  757885.09684618  212078.25729489  634972.16555328\n",
            "  655673.79059366  529009.5799775   359444.09295144  547070.93853257\n",
            "  502124.96302507  499122.69686638  656592.42970237  287922.65807793\n",
            "  699184.54852586  427677.9848813   250919.09679512  270817.7335676\n",
            "  610403.61034882  510715.78672445  439425.65353257  678367.27264466\n",
            "  262666.76544639  330591.49978984  556943.53403038  472910.3701901\n",
            "  271852.02351713  418492.72681056  669182.01457392  274569.01289087\n",
            "  952783.19939221  384931.2872646   621387.21868459  580632.37807852\n",
            "  518465.82721989  685791.97538641  528970.65202511  806026.84525796\n",
            "  375746.02919386  665546.38609148  927450.58387224  592148.74504816\n",
            "  460050.55568452  287081.874874    530807.93024253  529542.33861137\n",
            "  268749.15366856  293587.93850703  363118.64938627  590466.04562395\n",
            "  370466.62923959  536241.90899     422969.13849694  692831.93066967\n",
            "  327952.36632088  374102.25772204  375097.61971917  457333.56631078\n",
            "  432957.38483557  724632.81488664  434679.01221217  288153.95975956\n",
            "  610364.68239643  364307.518129    575962.45964655  464836.12495731\n",
            "  330630.42774223  706753.19081994  473751.15339403  720997.18640419\n",
            "  250116.10852722  289836.65918377  399358.15035358  664743.39782358\n",
            "  595135.96405592  708330.87864421  884742.81420794  276251.71231508\n",
            "  375020.89683075  710013.57806842  399319.22240119  300743.54463111\n",
            "  357761.39352722 1085915.67870537  775336.97387895  303421.60605246\n",
            "  375900.60798707  608566.33213141  489134.45052775  378656.5253132\n",
            "  515424.63310881  572481.40995731  241965.14040601  424845.34466674\n",
            "  404028.06878555  489018.79968693 1568544.42523361  496251.12869944\n",
            "  343528.03718384  786204.9313739   797914.80508914  571562.7708486\n",
            "  854014.01487654  553423.55638875  624065.28010594  642088.84372497\n",
            "  268024.02130544  636654.86497749  573400.04906601  906594.38003866\n",
            "  558896.46308862  401311.07941181  322440.53166863  472716.8634445\n",
            "  993614.7628867   261787.05429007  276251.71231508  624752.61753302\n",
            "  533409.26877545  423046.99440171  756202.39742197  475109.6480809\n",
            "  309889.87474946  287691.3563963   882141.47567502  856731.00425028\n",
            "  805108.20614925  410226.10784853  358795.68347675  552659.49607325\n",
            " 1469011.18040244  297378.14578268 1123552.60231193  468278.24669416\n",
            "  723714.17577793  489018.79968693  490053.08963646  688162.0122377\n",
            "  767988.99402563  476961.97344925  909503.74314164  354164.69299716\n",
            "  480983.48240653  376703.59625496  874275.78433876  639371.85435123\n",
            "  655025.38111897  593259.75788611  645801.19509584  578872.95576588\n",
            "  439310.00269175  938396.73355898  409331.68582827  265383.75482013\n",
            "  570759.7825807   415775.73743682  584229.07860858  718164.54618964\n",
            "  466518.82438152  609484.97124011  741050.40196988  528052.0129164\n",
            "  677409.70558357  721036.11435658  340425.16733527  754519.69799776\n",
            "  815976.16364421  809623.54578802  552428.19439162  529009.5799775\n",
            "  400392.4403031   709250.98705627  384051.57610828  252833.09790096\n",
            "  751610.33489478  651961.43922279  818005.81559087  805911.19441715\n",
            "  671975.72683609  676606.71731567  389524.48280815  629538.1868058\n",
            "  402954.85088363  205725.63943871  501800.75828773  374102.25772204\n",
            "  831282.7378895   349649.3533584   524609.89117954  566013.14126031\n",
            "  435713.30216169  730066.79363411  851297.0255028   724632.81488664\n",
            "  505320.73592936  889334.87673513  430279.32341422  341459.45728479\n",
            "  243647.83983022  287119.66981003  277286.00226461  712691.63948977\n",
            "  572365.75911649  171323.41668882  410341.75868934  277286.00226461\n",
            "  720155.27018391  838785.29653602  494684.08011604  675727.00615935\n",
            "  664859.0486644   448379.60992168  836029.3792099   319762.47024728\n",
            "  549787.9279063   220229.22541611  511789.00462636  508917.43645942\n",
            "  191639.16125437  486417.46115401  388165.98812128  526253.66265137\n",
            "  522541.3112805   328832.0774772   680126.6949573   379420.5856287\n",
            "  462651.89421744  907358.44035416  640406.14430076  799558.57656096\n",
            "  472832.51428532  273534.72294134  539838.60952006  594981.38526272\n",
            "  440800.32838672  761636.37616945  527936.36207558  500002.4080227\n",
            "  274569.01289087  826959.77197997  468201.52380574  259949.77607265\n",
            "  307172.88537572  379575.1644219  1123034.89082899 1099578.48147884\n",
            "  784367.65315649  375020.89683075  504556.67561385  295270.63793125\n",
            "  677085.50084622  492654.42816938  659425.06991692  482781.83267156\n",
            "  397481.94418377  314328.4914998   308894.51275233  641285.85545708\n",
            "  424845.34466674  596015.67521224  603780.76285862  495371.41754312\n",
            "  378656.5253132   223749.20305774  343142.15670901  817010.45359373\n",
            "  282719.98101208  543358.58716169  367633.98902504  707296.58869468\n",
            "  257232.78669891  315323.85349694 1000731.44105839  469768.57238913\n",
            "  315323.85349694  333308.48916358  710893.28922474  898288.83312424\n",
            "  409423.11958063  572211.18032329  334342.7791131   887575.45442249\n",
            "  219194.93546658  798794.51624546  519824.32190676  443825.34233052\n",
            " 1139336.82707142  553307.90554794  489937.43879564  795197.8157154\n",
            "  568691.20268166  768104.64486645  609446.04328773  377853.5370453\n",
            "  273534.72294134  574164.10938152  835913.72836908  576996.74959607\n",
            "  648518.18446958  449182.59818957  250764.51800191  604050.99249264\n",
            "  660073.47939161  439348.93064414  772504.3336644   552659.49607325\n",
            " 1074090.15414932  610519.26118964  251798.80795144  412140.10895437\n",
            "  789076.49954084  297987.62730499  810696.76368993  491774.71701306\n",
            "  829561.1105129   433760.37310346  395838.17271194  561574.52450996\n",
            "  336673.88801201  545311.51621993  710932.21717713 1120317.90145526\n",
            "  993653.69083909  653952.16321706  388165.98812128  680126.6949573\n",
            "  301854.55746906  362470.23991158  504402.09682065  371385.2683483\n",
            "  407740.42015642  660304.78107324  710739.84344789  303421.60605246\n",
            "  723598.52493711  743651.7405028  1567702.50901333  393005.53249739\n",
            "  381373.51468693  410990.16816403  644805.83309871  674692.71620983\n",
            "  674692.71620983  997937.72879623  289836.65918377  483855.05057347\n",
            "  475665.15449987  471721.50144737  639371.85435123  400392.4403031\n",
            "  304455.89600199 1180933.58389778  666541.74808861  213760.95671911\n",
            "  428326.39435599  427562.33404048  265538.33361333  449946.65850507\n",
            "  339815.68581297  473866.80423484  384931.2872646   503522.38566433\n",
            "  417535.15974946  642088.84372497  575198.39933104  859447.99362402\n",
            "  242613.5498807   383171.86495196  559660.52340412  693672.71387361\n",
            "  446426.68086344  510947.08840608  846666.03502322  548908.21674998\n",
            "  501036.69797222  530807.93024253  439425.65353257 1067815.39219791\n",
            "  637728.08287941  257232.78669891  288153.95975956  365032.65049212\n",
            "  584229.07860858  673928.65589432  520819.68390389  412179.03690676\n",
            "  658390.7799674   345134.01371963 1497022.9903601   660073.47939161\n",
            "  401311.07941181  565094.5021516   484503.46004816  741698.81144457\n",
            "  511634.42583316 1021665.50079675  372419.55829783  624829.34042145\n",
            "  406706.1302069   372303.90745701  450216.88813909  796996.16598043\n",
            "  533524.91961626  249081.8185777   598578.08579277  383935.92526747\n",
            "  913787.78109878  443139.13791979  509990.65436133  295270.63793125\n",
            "  391322.83307318  666541.74808861  582586.77644011  318040.84287068\n",
            "  659309.41907611 1238143.80652313  443864.27028291  421364.2949775\n",
            "  673010.01678561  250764.51800191  829561.1105129   499083.76891399\n",
            "  582315.07750273  661223.42018195  518141.62248254 1125712.95225034\n",
            "  384090.50406067  810542.18489673  246364.82920396  470879.58522709\n",
            "  400353.51235071  314289.56354741  393199.03924298  322518.3875734\n",
            "  910191.08056872  735385.12154077  258267.07664844  462844.26794669\n",
            "  535362.19783368  666541.74808861  486533.11199482  222946.21478984\n",
            "  479185.1321415   400237.8615099   263701.05539591  441147.28090917\n",
            "  365990.21755321  627700.90858839  953297.17553909  777938.31241187\n",
            "  502603.74655562  273534.72294134 1633559.79647408  478992.75841226\n",
            "  341498.38523718  466634.47522234  750043.28631138  287197.52571481\n",
            "  435558.72336849  304119.58272041  324432.38867925  395722.52187113\n",
            "  349379.12372438  368629.35102217  428480.97314919  894807.783435\n",
            "  449298.24903038  780694.229738    625710.18459412  846858.40875246\n",
            "  860482.28357354  374063.32976965  282719.98101208  506084.79624486\n",
            "  498165.12980528  520819.68390389 1852987.52627217  176371.51496146\n",
            "  465484.534432    599574.58080626  609484.97124011  239248.15103227\n",
            "  251798.80795144  482897.48351238  412140.10895437  434186.65083404\n",
            "  486301.81031319  596934.31432095  698072.40267156  308778.86191151\n",
            "  403989.14083316  238213.86108275  244682.12977975  722872.25955765\n",
            "  623069.9181088   689311.95302804  448495.26076249  326191.81099189\n",
            "  649436.82357829  821410.14239168  481631.89188122  816091.81448502\n",
            "  536126.25814919  800592.86651049  544277.2262704   289836.65918377\n",
            "  469999.87407076 1509804.9489609   396486.58218663  705613.88927047\n",
            "  561652.38041474  505475.31472256  587864.70709103  251150.39847675\n",
            "  331625.78973937  509951.72640894  527172.30176008  606080.6444393\n",
            "  495371.41754312  561613.45246235  337862.75675474  263701.05539591\n",
            "  278968.70168882  433914.95189666  572262.2168199   439271.07473936\n",
            "  477439.28767644  647638.47331326  502796.12028486 1279856.2141903\n",
            "  360478.38290096  447499.89876536 1111248.29422533  304455.89600199\n",
            "  390558.77275767  491967.0907423   473596.57460082  541495.62255246\n",
            " 1148406.43430135  727349.80426037  718164.54618964  547989.57764127\n",
            "  529773.640293    639371.85435123  586869.34509389 1210973.91278575\n",
            "  429360.68430551 1564144.73643566  437588.37531515  508956.36441181\n",
            "  724632.81488664  648518.18446958  783372.29115935  355044.40415348\n",
            "  382137.57500244  702820.17700831  350182.11199227  545272.58826754\n",
            "  395838.17271194  518790.03195723  564060.21220207  937206.39551289\n",
            "  538919.97041135  604012.06454025  338742.46791106  583233.71661144\n",
            "  491851.43990148  777019.67330316  876707.49692754  645569.89341421\n",
            "  452015.23840412  341498.38523718  590581.69646476  242999.43035553\n",
            "  488254.73937143  935523.69608868  469120.16291444  398555.16208568\n",
            "  777019.67330316 1503374.47519993  690076.01334355  480180.49413864\n",
            "  359598.67174464  514467.06604771  812495.11395496  586066.356826\n",
            "  458367.85626031  459131.91657581  432957.38483557  633937.87560376\n",
            " 1086949.96865489  276406.29110828  346932.36398466  656592.42970237\n",
            "  674692.71620983 1013436.67677076  666541.74808861  292553.64855751\n",
            "  533370.34082306 1034253.95265196  371385.2683483   561574.52450996\n",
            "  453813.58866915  377737.88620449  383248.58784039  462689.68915348\n",
            "  488331.46225985  303460.53400485  855048.30482606  689311.95302804\n",
            "  422282.93408621  716597.49760624  179590.03565085  900163.9062777\n",
            "  682843.68433104  326994.79925978  577799.73786397  577876.46075239\n",
            "  325157.52104237  806065.77321035  943674.66420989  368746.13487934\n",
            "  516034.11463111 1118364.97239702  378656.5253132   352210.29463558\n",
            "  926416.29392272  666541.74808861  885583.59741187 1009839.97624071\n",
            "  840429.06800785  519785.39395437  525373.95149505  879424.48630128\n",
            "  220229.22541611  925613.30565483  375020.89683075  382214.29789087\n",
            "  707296.58869468  624104.20805833  279007.62964121  333231.76627515\n",
            "  706648.17921999  387648.27663834  963535.50604634  515463.56106119\n",
            "  884858.46504875  776865.09450996  238213.86108275  762670.66611897\n",
            "  530692.27940171  649591.4023715   363234.30022709  265383.75482013\n",
            "  748063.53784498  719198.83613916  461524.70121221  626821.19743207\n",
            "  250116.10852722  461733.25510874  552428.19439162  396949.18554989\n",
            " 1128507.79752886  394039.82244691  270856.66151999  415011.67712131\n",
            "  437125.77195189  373183.61861333  486301.81031319  539722.95867925\n",
            "  531687.64139885  387648.27663834  273573.65089373  263701.05539591\n",
            "  806142.49609878  400276.78946228  762709.59407136  714413.26686637\n",
            "  591500.33557347  341382.73439637]\n"
          ]
        }
      ],
      "source": [
        "\n",
        "y_pred = lre.predict(x_test)\n",
        "print(f\"predicted response:\\n{y_pred}\")"
      ]
    },
    {
      "cell_type": "code",
      "execution_count": 26,
      "metadata": {
        "id": "wL7sRwHc5RRN",
        "colab": {
          "base_uri": "https://localhost:8080/"
        },
        "outputId": "ba0089db-a114-451e-f469-b77e9e2965eb"
      },
      "outputs": [
        {
          "output_type": "stream",
          "name": "stdout",
          "text": [
            "MSE is: 75634500311.92892\n",
            "RMSE is: 275017.2727519654\n",
            "R_squared is: 0.4450186747118554\n"
          ]
        }
      ],
      "source": [
        "from sklearn.metrics import mean_squared_error\n",
        "MSE = mean_squared_error(y_test, y_pred)\n",
        "RMSE = mean_squared_error(y_test, y_pred, squared=False)\n",
        "print(\"MSE is:\", MSE)\n",
        "print(\"RMSE is:\", RMSE)\n",
        "print(\"R_squared is:\", r_squared)"
      ]
    },
    {
      "cell_type": "markdown",
      "metadata": {
        "id": "ygWwihk95AEg"
      },
      "source": [
        "# Observe Variance Inflation Factor(VIF)\n"
      ]
    },
    {
      "cell_type": "code",
      "execution_count": 27,
      "metadata": {
        "id": "vyuC7Ia3-Kpx",
        "colab": {
          "base_uri": "https://localhost:8080/"
        },
        "outputId": "e756d97f-87ea-4e72-884e-e6f0d7aca55e"
      },
      "outputs": [
        {
          "output_type": "stream",
          "name": "stdout",
          "text": [
            "Requirement already satisfied: statsmodels in /usr/local/lib/python3.10/dist-packages (0.14.0)\n",
            "Requirement already satisfied: numpy>=1.18 in /usr/local/lib/python3.10/dist-packages (from statsmodels) (1.23.5)\n",
            "Requirement already satisfied: scipy!=1.9.2,>=1.4 in /usr/local/lib/python3.10/dist-packages (from statsmodels) (1.11.4)\n",
            "Requirement already satisfied: pandas>=1.0 in /usr/local/lib/python3.10/dist-packages (from statsmodels) (1.5.3)\n",
            "Requirement already satisfied: patsy>=0.5.2 in /usr/local/lib/python3.10/dist-packages (from statsmodels) (0.5.3)\n",
            "Requirement already satisfied: packaging>=21.3 in /usr/local/lib/python3.10/dist-packages (from statsmodels) (23.2)\n",
            "Requirement already satisfied: python-dateutil>=2.8.1 in /usr/local/lib/python3.10/dist-packages (from pandas>=1.0->statsmodels) (2.8.2)\n",
            "Requirement already satisfied: pytz>=2020.1 in /usr/local/lib/python3.10/dist-packages (from pandas>=1.0->statsmodels) (2023.3.post1)\n",
            "Requirement already satisfied: six in /usr/local/lib/python3.10/dist-packages (from patsy>=0.5.2->statsmodels) (1.16.0)\n"
          ]
        }
      ],
      "source": [
        "!pip install statsmodels --upgrade"
      ]
    },
    {
      "cell_type": "code",
      "execution_count": 28,
      "metadata": {
        "id": "WNVovyVF5A0Q",
        "colab": {
          "base_uri": "https://localhost:8080/"
        },
        "outputId": "5502088b-8eda-4032-eae6-e16ea4008564"
      },
      "outputs": [
        {
          "output_type": "stream",
          "name": "stdout",
          "text": [
            "   VIF Factor    predictor\n",
            "0   16.269620        const\n",
            "1    2.667951  sqft_living\n",
            "2    1.598727     bedrooms\n",
            "3    2.455652    bathrooms\n"
          ]
        }
      ],
      "source": [
        "from statsmodels.stats.outliers_influence import variance_inflation_factor\n",
        "import statsmodels.api as sm\n",
        "\n",
        "X = dataset[['sqft_living', 'bedrooms', 'bathrooms']]\n",
        "y = dataset['price']\n",
        "\n",
        "# Add constant to predictor variables for intercept term\n",
        "X = sm.add_constant(X)\n",
        "\n",
        "# Compute VIF for each predictor variable\n",
        "vif = pd.DataFrame()\n",
        "vif[\"VIF Factor\"] = [variance_inflation_factor(X.values, i) for i in range(X.shape[1])]\n",
        "vif[\"predictor\"] = X.columns\n",
        "\n",
        "print(vif)"
      ]
    },
    {
      "cell_type": "markdown",
      "metadata": {
        "id": "rgxUeABJBlfb"
      },
      "source": [
        "# Implement Ridge Regression Model"
      ]
    },
    {
      "cell_type": "code",
      "execution_count": 29,
      "metadata": {
        "id": "kc-1nvzl7DRq"
      },
      "outputs": [],
      "source": [
        "x_data = dataset['sqft_living']\n",
        "y_data = dataset['price']\n",
        "# Create each single feature as a vector\n",
        "x_data = np.array(x_data).reshape((-1,1))\n",
        "x_train, x_test, y_train, y_test = train_test_split(x_data, y_data, test_size=0.15, random_state=1)\n"
      ]
    },
    {
      "cell_type": "code",
      "execution_count": 30,
      "metadata": {
        "id": "13kQ6JcsBNr5",
        "colab": {
          "base_uri": "https://localhost:8080/"
        },
        "outputId": "4e030092-f490-43c1-ff30-7295c026d17f"
      },
      "outputs": [
        {
          "output_type": "stream",
          "name": "stdout",
          "text": [
            "RSquared Error :  0.4266186260766843\n",
            "Mean Squared Error:  78142113488.84764\n"
          ]
        }
      ],
      "source": [
        "from sklearn.linear_model import Ridge\n",
        "from sklearn.metrics import mean_squared_error\n",
        "\n",
        "ridge_model = Ridge(alpha=0.0)\n",
        "\n",
        "ridge_model.fit(x_train, y_train)\n",
        "\n",
        "y_pred = ridge_model.predict(x_test)\n",
        "\n",
        "print(\"RSquared Error : \", ridge_model.score(x_test,y_test))\n",
        "mse = mean_squared_error(y_test, y_pred)\n",
        "print(\"Mean Squared Error: \", mse)"
      ]
    },
    {
      "cell_type": "markdown",
      "metadata": {
        "id": "nbIuPYd-u0nb"
      },
      "source": [
        "# LASSO Regression Model"
      ]
    },
    {
      "cell_type": "code",
      "execution_count": 31,
      "metadata": {
        "id": "aug8Wgf0gtI1",
        "colab": {
          "base_uri": "https://localhost:8080/"
        },
        "outputId": "8c0e1427-1573-4420-b2f1-52cbdde14cdf"
      },
      "outputs": [
        {
          "output_type": "stream",
          "name": "stdout",
          "text": [
            "Model Score :  0.426618626055833\n",
            "Mean Squared Error:  78142113491.68932\n"
          ]
        }
      ],
      "source": [
        "from sklearn import datasets\n",
        "from sklearn.linear_model import Lasso\n",
        "\n",
        "# Create an instance of Lasso Regression implementation\n",
        "lasso = Lasso(alpha=0.2)\n",
        "\n",
        "# Fit the Lasso model\n",
        "lasso.fit(x_train, y_train)\n",
        "y_pred = lasso.predict(x_test)\n",
        "\n",
        "# Create the model score\n",
        "\n",
        "print(\"Model Score : \",lasso.score(x_test, y_test))\n",
        "mse = mean_squared_error(y_test, y_pred)\n",
        "print(\"Mean Squared Error: \", mse)"
      ]
    },
    {
      "cell_type": "markdown",
      "metadata": {
        "id": "AfJqA5mr3AAV"
      },
      "source": []
    },
    {
      "cell_type": "markdown",
      "metadata": {
        "id": "tjXdFyiN6oGm"
      },
      "source": [
        "# Observation on above models"
      ]
    },
    {
      "cell_type": "markdown",
      "metadata": {
        "id": "wOGrufJM68GU"
      },
      "source": [
        "**For Univariate model**"
      ]
    },
    {
      "cell_type": "code",
      "execution_count": 32,
      "metadata": {
        "id": "8UiBjvTy6s1e"
      },
      "outputs": [],
      "source": [
        "X = dataset['sqft_living']\n",
        "y = dataset['price']"
      ]
    },
    {
      "cell_type": "code",
      "execution_count": 33,
      "metadata": {
        "id": "WX-veRDs66Hn"
      },
      "outputs": [],
      "source": [
        "# calculate the slope and intercept of the best-fit line\n",
        "slope = np.sum((X - np.mean(X)) * (y - np.mean(y))) / np.sum((X - np.mean(X)) ** 2)\n",
        "intercept = np.mean(y) - slope * np.mean(X)"
      ]
    },
    {
      "cell_type": "code",
      "execution_count": 34,
      "metadata": {
        "id": "YND-USbC3OgB",
        "colab": {
          "base_uri": "https://localhost:8080/"
        },
        "outputId": "bc58eacd-35db-4a1e-bfe2-fc1c2a8597c9"
      },
      "outputs": [
        {
          "output_type": "stream",
          "name": "stdout",
          "text": [
            "251.95013105923712 12954.2423963818\n"
          ]
        }
      ],
      "source": [
        "print(slope, intercept)"
      ]
    },
    {
      "cell_type": "code",
      "execution_count": 35,
      "metadata": {
        "id": "BdaIisbn2rHr"
      },
      "outputs": [],
      "source": [
        "lre=LinearRegression()\n",
        "lre.fit(np.array(X).reshape((-1,1)),y)\n",
        "pred_slope = lre.coef_\n",
        "pred_intercept = lre.intercept_"
      ]
    },
    {
      "cell_type": "code",
      "execution_count": 36,
      "metadata": {
        "id": "3zZHGqL32CDX",
        "colab": {
          "base_uri": "https://localhost:8080/"
        },
        "outputId": "9a724b28-745b-4a0f-db18-1b1b5edc5e1b"
      },
      "outputs": [
        {
          "output_type": "stream",
          "name": "stdout",
          "text": [
            "[251.95013106] 12954.242396381567\n"
          ]
        }
      ],
      "source": [
        "print(pred_slope, pred_intercept)"
      ]
    },
    {
      "cell_type": "code",
      "execution_count": 37,
      "metadata": {
        "id": "nU_VyHvC7C7i",
        "colab": {
          "base_uri": "https://localhost:8080/",
          "height": 465
        },
        "outputId": "5c274abb-7ad2-49af-bcca-84b5bc9e9587"
      },
      "outputs": [
        {
          "output_type": "display_data",
          "data": {
            "text/plain": [
              "<Figure size 640x480 with 1 Axes>"
            ],
            "image/png": "[encoded data removed]"
          },
          "metadata": {}
        }
      ],
      "source": [
        "# plot the scatter plot and the best-fit line\n",
        "import matplotlib.pyplot as plt\n",
        "plt.scatter(X, y)\n",
        "plt.plot(X, slope * X + intercept, color='red')\n",
        "plt.xlabel('sqft')\n",
        "plt.ylabel('price')\n",
        "plt.show()"
      ]
    },
    {
      "cell_type": "code",
      "execution_count": 38,
      "metadata": {
        "id": "1XrmDwCG4BFd",
        "colab": {
          "base_uri": "https://localhost:8080/",
          "height": 465
        },
        "outputId": "3dc95e85-66c1-44e1-c60f-0bbe2dc7a2a0"
      },
      "outputs": [
        {
          "output_type": "display_data",
          "data": {
            "text/plain": [
              "<Figure size 640x480 with 1 Axes>"
            ],
            "image/png": "[encoded data removed]"
          },
          "metadata": {}
        }
      ],
      "source": [
        "# plot the scatter plot and the best-fit line\n",
        "import matplotlib.pyplot as plt\n",
        "plt.scatter(X, y)\n",
        "plt.plot(X, slope * X + intercept, color='red')\n",
        "plt.plot(X, pred_slope * X + pred_intercept, color='green')\n",
        "plt.legend(['sample','actual','predicted'])\n",
        "plt.xlabel('sqft')\n",
        "plt.ylabel('price')\n",
        "plt.show()"
      ]
    },
    {
      "cell_type": "markdown",
      "metadata": {
        "id": "oQuZlFNS7Gwl"
      },
      "source": [
        "**For Multivariate model**"
      ]
    },
    {
      "cell_type": "code",
      "execution_count": 39,
      "metadata": {
        "id": "U7ATOXZr7d0I",
        "colab": {
          "base_uri": "https://localhost:8080/",
          "height": 465
        },
        "outputId": "5c7f6f17-7c07-4345-d371-4c016df1155a"
      },
      "outputs": [
        {
          "output_type": "display_data",
          "data": {
            "text/plain": [
              "<Figure size 640x480 with 1 Axes>"
            ],
            "image/png": "[encoded data removed]"
          },
          "metadata": {}
        }
      ],
      "source": [
        "import numpy as np\n",
        "import matplotlib.pyplot as plt\n",
        "\n",
        "# input features\n",
        "sqft = dataset['sqft_living']\n",
        "bedrooms = dataset['bedrooms']\n",
        "bathrooms = dataset['bathrooms']\n",
        "\n",
        "# target variable\n",
        "price = dataset['price']\n",
        "\n",
        "# combine input features into a single matrix\n",
        "X = np.column_stack((sqft, bedrooms, bathrooms))\n",
        "\n",
        "# add a column of ones for the intercept term\n",
        "X = np.hstack((np.ones((len(X), 1)), X))\n",
        "\n",
        "# calculate the least squares solution for the model coefficients\n",
        "w = np.linalg.inv(X.T.dot(X)).dot(X.T).dot(price)\n",
        "\n",
        "# calculate predicted values of the target variable\n",
        "y_pred = X.dot(w)\n",
        "\n",
        "# plot the scatter plot and best-fit line\n",
        "fig, ax = plt.subplots()\n",
        "ax.scatter(sqft, price)\n",
        "ax.plot(sqft, y_pred, color='red')\n",
        "ax.set_xlabel('Square Feet')\n",
        "ax.set_ylabel('Price')\n",
        "plt.show()"
      ]
    },
    {
      "cell_type": "markdown",
      "source": [
        "# **Thank you**"
      ],
      "metadata": {
        "id": "nNjVKcvqGra6"
      }
    }
  ],
  "metadata": {
    "colab": {
      "provenance": [],
      "include_colab_link": true
    },
    "kernelspec": {
      "display_name": "Python 3",
      "name": "python3"
    },
    "language_info": {
      "name": "python"
    }
  },
  "nbformat": 4,
  "nbformat_minor": 0
}